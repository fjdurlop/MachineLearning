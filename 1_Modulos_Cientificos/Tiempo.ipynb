{
 "cells": [
  {
   "cell_type": "code",
   "execution_count": 45,
   "metadata": {
    "ExecuteTime": {
     "end_time": "2019-03-17T17:52:54.937489Z",
     "start_time": "2019-03-17T17:52:54.933397Z"
    }
   },
   "outputs": [],
   "source": [
    "import numpy as np\n",
    "import numpy.random as rnd\n",
    "from time import time\n",
    "from operator import matmul  # (a + b, -, a @ b = matmul(a, b))"
   ]
  },
  {
   "cell_type": "code",
   "execution_count": 59,
   "metadata": {
    "ExecuteTime": {
     "end_time": "2019-03-17T17:54:14.760590Z",
     "start_time": "2019-03-17T17:54:14.609642Z"
    }
   },
   "outputs": [],
   "source": [
    "m1 = rnd.rand(1000, 3000) * 10\n",
    "m2 = rnd.rand(3000, 2000) * 10"
   ]
  },
  {
   "cell_type": "code",
   "execution_count": 71,
   "metadata": {
    "ExecuteTime": {
     "end_time": "2019-03-17T19:58:18.914530Z",
     "start_time": "2019-03-17T19:58:18.906483Z"
    }
   },
   "outputs": [],
   "source": [
    "def mult_matrix(m1, m2):\n",
    "    if m1.shape[1] != m2.shape[0]:\n",
    "        return None\n",
    "    matrix = np.zeros([m1.shape[0], m2.shape[1]])\n",
    "    for i in range(matrix.shape[0]):\n",
    "        for j in range(matrix.shape[1]):\n",
    "            for k in range(matrix.shape[0]):\n",
    "                matrix[i][j] = matrix[i][j] + m1[i][k] * m2[k][j] \n",
    "    return matrix"
   ]
  },
  {
   "cell_type": "code",
   "execution_count": null,
   "metadata": {
    "ExecuteTime": {
     "end_time": "2019-03-17T17:03:46.804794Z",
     "start_time": "2019-03-17T17:03:44.609182Z"
    },
    "deletable": false,
    "editable": false,
    "run_control": {
     "frozen": true
    }
   },
   "outputs": [],
   "source": []
  },
  {
   "cell_type": "code",
   "execution_count": 31,
   "metadata": {
    "ExecuteTime": {
     "end_time": "2019-03-17T17:03:20.547795Z",
     "start_time": "2019-03-17T17:03:20.543940Z"
    }
   },
   "outputs": [],
   "source": [
    "def tiempo_funcion(m1, m2, funcion):\n",
    "    tiempo_inicial = time()\n",
    "    funcion(m1, m2)\n",
    "    return time() - tiempo_inicial"
   ]
  },
  {
   "cell_type": "code",
   "execution_count": 65,
   "metadata": {
    "ExecuteTime": {
     "end_time": "2019-03-17T18:33:13.537512Z",
     "start_time": "2019-03-17T17:55:19.874399Z"
    }
   },
   "outputs": [
    {
     "name": "stdout",
     "output_type": "stream",
     "text": [
      "Tiempo matriz python:  2273.1223483085632\n",
      "tiempo numpy:  0.27968692779541016\n",
      "tiempo arrova:  0.25226402282714844\n"
     ]
    }
   ],
   "source": [
    "tiempo_matriz_python = tiempo_funcion(m1, m2, mult_matrix)\n",
    "tiempo_numpy = tiempo_funcion(m1, m2, np.dot) # == @\n",
    "tiempo_arrova = tiempo_funcion(m1, m2, matmul)\n",
    "print(\"Tiempo matriz python: \", tiempo_matriz_python)\n",
    "print(\"tiempo numpy: \", tiempo_numpy)\n",
    "print(\"tiempo arrova: \", tiempo_arrova)"
   ]
  },
  {
   "cell_type": "code",
   "execution_count": 44,
   "metadata": {
    "ExecuteTime": {
     "end_time": "2019-03-17T17:51:12.300010Z",
     "start_time": "2019-03-17T17:51:12.295937Z"
    }
   },
   "outputs": [
    {
     "data": {
      "text/plain": [
       "1552845072.2969327"
      ]
     },
     "execution_count": 44,
     "metadata": {},
     "output_type": "execute_result"
    }
   ],
   "source": [
    "time()"
   ]
  },
  {
   "cell_type": "code",
   "execution_count": 66,
   "metadata": {
    "ExecuteTime": {
     "end_time": "2019-03-17T18:50:53.756432Z",
     "start_time": "2019-03-17T18:50:53.751072Z"
    }
   },
   "outputs": [
    {
     "data": {
      "text/plain": [
       "37.88537247180939"
      ]
     },
     "execution_count": 66,
     "metadata": {},
     "output_type": "execute_result"
    }
   ],
   "source": [
    "2273.1223483085632 / 60"
   ]
  },
  {
   "cell_type": "code",
   "execution_count": 68,
   "metadata": {
    "ExecuteTime": {
     "end_time": "2019-03-17T19:11:12.434729Z",
     "start_time": "2019-03-17T19:11:12.429313Z"
    }
   },
   "outputs": [
    {
     "data": {
      "text/plain": [
       "53.1223483085634"
      ]
     },
     "execution_count": 68,
     "metadata": {},
     "output_type": "execute_result"
    }
   ],
   "source": [
    ".88537247180939 * 60"
   ]
  },
  {
   "cell_type": "code",
   "execution_count": null,
   "metadata": {},
   "outputs": [],
   "source": []
  }
 ],
 "metadata": {
  "kernelspec": {
   "display_name": "Python 3",
   "language": "python",
   "name": "python3"
  },
  "language_info": {
   "codemirror_mode": {
    "name": "ipython",
    "version": 3
   },
   "file_extension": ".py",
   "mimetype": "text/x-python",
   "name": "python",
   "nbconvert_exporter": "python",
   "pygments_lexer": "ipython3",
   "version": "3.6.9"
  }
 },
 "nbformat": 4,
 "nbformat_minor": 2
}
