{
 "cells": [
  {
   "cell_type": "markdown",
   "metadata": {},
   "source": [
    "# Pandas\n",
    "\n",
    "Pandas es una biblioteca de python que permite la manipulacion y analisis de datos para el lenguaje Python. Para importala hacemos lo siguiente:"
   ]
  },
  {
   "cell_type": "code",
   "execution_count": 86,
   "metadata": {
    "ExecuteTime": {
     "end_time": "2019-01-08T01:47:29.590780Z",
     "start_time": "2019-01-08T01:47:29.585089Z"
    }
   },
   "outputs": [],
   "source": [
    "import pandas as pd\n",
    "import numpy as np"
   ]
  },
  {
   "cell_type": "markdown",
   "metadata": {},
   "source": [
    "## DataFrame\n",
    "\n",
    "El eje central de pandas es el dataframe, ya que nos permite manipular la información de forma sencilla a través de sus métodos y atributos. Lo primero que hay que entender es la lectura de la información, para esto podemos usar varias funciones de pandas"
   ]
  },
  {
   "cell_type": "code",
   "execution_count": 134,
   "metadata": {},
   "outputs": [
    {
     "data": {
      "text/plain": [
       "Index(['muy mala', 'mala', 'regular', 'buena', 'muy buena'], dtype='object')"
      ]
     },
     "execution_count": 134,
     "metadata": {},
     "output_type": "execute_result"
    }
   ],
   "source": [
    "datos = {\n",
    "    'fecha':pd.date_range('20200113', periods=6),\n",
    "    'experiencia':pd.Categorical(['buena', 'muy buena', 'mala', np.nan, 'muy mala', 'buena'],\n",
    "                                [\"muy mala\", \"mala\", \"regular\", \"buena\", \"muy buena\"]),\n",
    "    'monto':[120, 23.34, 123.34, 343.2, 23.4, 343.3],\n",
    "    'propina':[10, 5, 12, 45, 0, 30],\n",
    "    'opinion':['fria la comida', 'espere mucho tiempo', 'todo bien', 'excelente', 'mal servicio', 'Tardaron mucho']\n",
    "}\n",
    "df = pd.DataFrame(datos)\n",
    "df.experiencia.cat.categories"
   ]
  },
  {
   "cell_type": "markdown",
   "metadata": {},
   "source": [
    "## Funciones utiles para Entender el DataFrame\n",
    "\n",
    "DataFrame posee diversas funciones para que podamos entender como es la información que poseemos\n",
    "\n",
    "* `head(n=5)`: Imprime los primeros n renglones del dataframe\n",
    "* `tail(n=5)`: Imprime los ultimos n renglones del dataframe\n",
    "* `info()`: Imprime una descripción del tipo de dato de las columnas\n",
    "* `describe()`: Imprime una descripción de las columnas númericas"
   ]
  },
  {
   "cell_type": "code",
   "execution_count": 88,
   "metadata": {},
   "outputs": [
    {
     "data": {
      "text/html": [
       "<div>\n",
       "<style scoped>\n",
       "    .dataframe tbody tr th:only-of-type {\n",
       "        vertical-align: middle;\n",
       "    }\n",
       "\n",
       "    .dataframe tbody tr th {\n",
       "        vertical-align: top;\n",
       "    }\n",
       "\n",
       "    .dataframe thead th {\n",
       "        text-align: right;\n",
       "    }\n",
       "</style>\n",
       "<table border=\"1\" class=\"dataframe\">\n",
       "  <thead>\n",
       "    <tr style=\"text-align: right;\">\n",
       "      <th></th>\n",
       "      <th>fecha</th>\n",
       "      <th>experiencia</th>\n",
       "      <th>monto</th>\n",
       "      <th>propina</th>\n",
       "      <th>opinion</th>\n",
       "    </tr>\n",
       "  </thead>\n",
       "  <tbody>\n",
       "    <tr>\n",
       "      <th>0</th>\n",
       "      <td>2020-01-13</td>\n",
       "      <td>buena</td>\n",
       "      <td>120.00</td>\n",
       "      <td>10</td>\n",
       "      <td>fria la comida</td>\n",
       "    </tr>\n",
       "    <tr>\n",
       "      <th>1</th>\n",
       "      <td>2020-01-14</td>\n",
       "      <td>muy buena</td>\n",
       "      <td>23.34</td>\n",
       "      <td>5</td>\n",
       "      <td>espere mucho tiempo</td>\n",
       "    </tr>\n",
       "    <tr>\n",
       "      <th>2</th>\n",
       "      <td>2020-01-15</td>\n",
       "      <td>mala</td>\n",
       "      <td>123.34</td>\n",
       "      <td>12</td>\n",
       "      <td>todo bien</td>\n",
       "    </tr>\n",
       "  </tbody>\n",
       "</table>\n",
       "</div>"
      ],
      "text/plain": [
       "       fecha experiencia   monto  propina              opinion\n",
       "0 2020-01-13       buena  120.00       10       fria la comida\n",
       "1 2020-01-14   muy buena   23.34        5  espere mucho tiempo\n",
       "2 2020-01-15        mala  123.34       12            todo bien"
      ]
     },
     "execution_count": 88,
     "metadata": {},
     "output_type": "execute_result"
    }
   ],
   "source": [
    "df.head(3)"
   ]
  },
  {
   "cell_type": "code",
   "execution_count": 89,
   "metadata": {},
   "outputs": [
    {
     "data": {
      "text/html": [
       "<div>\n",
       "<style scoped>\n",
       "    .dataframe tbody tr th:only-of-type {\n",
       "        vertical-align: middle;\n",
       "    }\n",
       "\n",
       "    .dataframe tbody tr th {\n",
       "        vertical-align: top;\n",
       "    }\n",
       "\n",
       "    .dataframe thead th {\n",
       "        text-align: right;\n",
       "    }\n",
       "</style>\n",
       "<table border=\"1\" class=\"dataframe\">\n",
       "  <thead>\n",
       "    <tr style=\"text-align: right;\">\n",
       "      <th></th>\n",
       "      <th>fecha</th>\n",
       "      <th>experiencia</th>\n",
       "      <th>monto</th>\n",
       "      <th>propina</th>\n",
       "      <th>opinion</th>\n",
       "    </tr>\n",
       "  </thead>\n",
       "  <tbody>\n",
       "    <tr>\n",
       "      <th>4</th>\n",
       "      <td>2020-01-17</td>\n",
       "      <td>muy mala</td>\n",
       "      <td>23.4</td>\n",
       "      <td>0</td>\n",
       "      <td>mal servicio</td>\n",
       "    </tr>\n",
       "    <tr>\n",
       "      <th>5</th>\n",
       "      <td>2020-01-18</td>\n",
       "      <td>buena</td>\n",
       "      <td>343.3</td>\n",
       "      <td>30</td>\n",
       "      <td>Tardaron mucho</td>\n",
       "    </tr>\n",
       "  </tbody>\n",
       "</table>\n",
       "</div>"
      ],
      "text/plain": [
       "       fecha experiencia  monto  propina         opinion\n",
       "4 2020-01-17    muy mala   23.4        0    mal servicio\n",
       "5 2020-01-18       buena  343.3       30  Tardaron mucho"
      ]
     },
     "execution_count": 89,
     "metadata": {},
     "output_type": "execute_result"
    }
   ],
   "source": [
    "df.tail(2)"
   ]
  },
  {
   "cell_type": "code",
   "execution_count": 90,
   "metadata": {},
   "outputs": [
    {
     "name": "stdout",
     "output_type": "stream",
     "text": [
      "<class 'pandas.core.frame.DataFrame'>\n",
      "RangeIndex: 6 entries, 0 to 5\n",
      "Data columns (total 5 columns):\n",
      "fecha          6 non-null datetime64[ns]\n",
      "experiencia    5 non-null category\n",
      "monto          6 non-null float64\n",
      "propina        6 non-null int64\n",
      "opinion        6 non-null object\n",
      "dtypes: category(1), datetime64[ns](1), float64(1), int64(1), object(1)\n",
      "memory usage: 526.0+ bytes\n"
     ]
    }
   ],
   "source": [
    "df.info()"
   ]
  },
  {
   "cell_type": "code",
   "execution_count": 91,
   "metadata": {},
   "outputs": [
    {
     "data": {
      "text/html": [
       "<div>\n",
       "<style scoped>\n",
       "    .dataframe tbody tr th:only-of-type {\n",
       "        vertical-align: middle;\n",
       "    }\n",
       "\n",
       "    .dataframe tbody tr th {\n",
       "        vertical-align: top;\n",
       "    }\n",
       "\n",
       "    .dataframe thead th {\n",
       "        text-align: right;\n",
       "    }\n",
       "</style>\n",
       "<table border=\"1\" class=\"dataframe\">\n",
       "  <thead>\n",
       "    <tr style=\"text-align: right;\">\n",
       "      <th></th>\n",
       "      <th>monto</th>\n",
       "      <th>propina</th>\n",
       "    </tr>\n",
       "  </thead>\n",
       "  <tbody>\n",
       "    <tr>\n",
       "      <th>count</th>\n",
       "      <td>6.000000</td>\n",
       "      <td>6.000000</td>\n",
       "    </tr>\n",
       "    <tr>\n",
       "      <th>mean</th>\n",
       "      <td>162.763333</td>\n",
       "      <td>17.000000</td>\n",
       "    </tr>\n",
       "    <tr>\n",
       "      <th>std</th>\n",
       "      <td>146.557009</td>\n",
       "      <td>17.088007</td>\n",
       "    </tr>\n",
       "    <tr>\n",
       "      <th>min</th>\n",
       "      <td>23.340000</td>\n",
       "      <td>0.000000</td>\n",
       "    </tr>\n",
       "    <tr>\n",
       "      <th>25%</th>\n",
       "      <td>47.550000</td>\n",
       "      <td>6.250000</td>\n",
       "    </tr>\n",
       "    <tr>\n",
       "      <th>50%</th>\n",
       "      <td>121.670000</td>\n",
       "      <td>11.000000</td>\n",
       "    </tr>\n",
       "    <tr>\n",
       "      <th>75%</th>\n",
       "      <td>288.235000</td>\n",
       "      <td>25.500000</td>\n",
       "    </tr>\n",
       "    <tr>\n",
       "      <th>max</th>\n",
       "      <td>343.300000</td>\n",
       "      <td>45.000000</td>\n",
       "    </tr>\n",
       "  </tbody>\n",
       "</table>\n",
       "</div>"
      ],
      "text/plain": [
       "            monto    propina\n",
       "count    6.000000   6.000000\n",
       "mean   162.763333  17.000000\n",
       "std    146.557009  17.088007\n",
       "min     23.340000   0.000000\n",
       "25%     47.550000   6.250000\n",
       "50%    121.670000  11.000000\n",
       "75%    288.235000  25.500000\n",
       "max    343.300000  45.000000"
      ]
     },
     "execution_count": 91,
     "metadata": {},
     "output_type": "execute_result"
    }
   ],
   "source": [
    "df.describe()"
   ]
  },
  {
   "cell_type": "markdown",
   "metadata": {
    "ExecuteTime": {
     "end_time": "2019-01-07T23:58:50.629440Z",
     "start_time": "2019-01-07T23:58:50.625794Z"
    }
   },
   "source": [
    "## Atributos de DataFrame\n",
    "\n",
    "DataFrame posee atriutos importantes como:\n",
    "\n",
    "| Atributo | Descripcion                                           |\n",
    "|----------|-------------------------------------------------------|\n",
    "| columns  | Nombre de las columnas del dataframe                  |\n",
    "| dtypes   | Tipos de datos del dataframe                          |\n",
    "| ndim     | Número de dimensiones del dataframe                   |\n",
    "| shape    | Tupla que representa la dimensionalidad del dataframe |\n",
    "| values   | Regresa un ndarray (numpy) con la info del dataframe  |\n",
    "| index    | Como esta indexado el dataframe                       |\n"
   ]
  },
  {
   "cell_type": "code",
   "execution_count": 92,
   "metadata": {
    "ExecuteTime": {
     "end_time": "2019-01-08T00:11:35.509841Z",
     "start_time": "2019-01-08T00:11:35.495079Z"
    }
   },
   "outputs": [
    {
     "name": "stdout",
     "output_type": "stream",
     "text": [
      "Registros de dataframe: 6\n",
      "\n",
      "Columnas del dataframe: Index(['fecha', 'experiencia', 'monto', 'propina', 'opinion'], dtype='object')\n",
      "\n",
      "Numero de columnas del dataframe: 5\n",
      "\n",
      "dtype:\n",
      "fecha          datetime64[ns]\n",
      "experiencia          category\n",
      "monto                 float64\n",
      "propina                 int64\n",
      "opinion                object\n",
      "dtype: object\n",
      "\n",
      "ndim: 30\n",
      "\n",
      "shape: (6, 5)\n",
      "\n",
      "values: [[Timestamp('2020-01-13 00:00:00') 'buena' 120.0 10 'fria la comida']\n",
      " [Timestamp('2020-01-14 00:00:00') 'muy buena' 23.34 5\n",
      "  'espere mucho tiempo']\n",
      " [Timestamp('2020-01-15 00:00:00') 'mala' 123.34 12 'todo bien']\n",
      " [Timestamp('2020-01-16 00:00:00') nan 343.2 45 'excelente']\n",
      " [Timestamp('2020-01-17 00:00:00') 'muy mala' 23.4 0 'mal servicio']\n",
      " [Timestamp('2020-01-18 00:00:00') 'buena' 343.3 30 'Tardaron mucho']]\n",
      "\n",
      "index: RangeIndex(start=0, stop=6, step=1)\n",
      "\n"
     ]
    }
   ],
   "source": [
    "print(\"Registros de dataframe: {}\\n\".format(len(df)))\n",
    "print(\"Columnas del dataframe: {}\\n\".format(df.columns))\n",
    "print(\"Numero de columnas del dataframe: {}\\n\".format(len(df.columns)))\n",
    "print(\"dtype:\\n{}\\n\".format(df.dtypes))\n",
    "print(\"ndim: {}\\n\".format(df.size))\n",
    "print(\"shape: {}\\n\".format(df.shape))\n",
    "print(\"values: {}\\n\".format(df.values))\n",
    "print(\"index: {}\\n\".format(df.index))"
   ]
  },
  {
   "cell_type": "markdown",
   "metadata": {},
   "source": [
    "## Acceder a Elementos de un DataFrame\n",
    "\n",
    "Para seleccionar columnas basta con poner su nombre en corchetes o con escribirlo seguido de un punto (es la que seguiremos en este manual), una columna de un dataframe es una clase llamada \"Series\". El atributo loc nos permite acceder mediante el nombre de los renglons y columnas y el atributo iloc mediante los indices de renglones y columnas.\n",
    "\n",
    "`iloc[indice_renglones, indice_columnas]`  \n",
    "`loc[nombre_renglones, nombre_columnas]`"
   ]
  },
  {
   "cell_type": "code",
   "execution_count": 93,
   "metadata": {
    "scrolled": true
   },
   "outputs": [
    {
     "name": "stdout",
     "output_type": "stream",
     "text": [
      "Columna monto:\n",
      " 0    120.00\n",
      "1     23.34\n",
      "2    123.34\n",
      "3    343.20\n",
      "4     23.40\n",
      "5    343.30\n",
      "Name: monto, dtype: float64\n",
      "Tipo de dato monto: <class 'pandas.core.series.Series'>\n",
      "Columna monto:\n",
      " 0    120.00\n",
      "1     23.34\n",
      "2    123.34\n",
      "3    343.20\n",
      "4     23.40\n",
      "5    343.30\n",
      "Name: monto, dtype: float64\n",
      "Tipo de dato monto: <class 'pandas.core.series.Series'>\n",
      "Monto y propina:\n",
      "     monto  propina\n",
      "0  120.00       10\n",
      "1   23.34        5\n",
      "2  123.34       12\n",
      "3  343.20       45\n",
      "4   23.40        0\n",
      "5  343.30       30\n",
      "Primeros tres renglones del dataframe:\n",
      "        fecha experiencia   monto  propina              opinion\n",
      "0 2020-01-13       buena  120.00       10       fria la comida\n",
      "1 2020-01-14   muy buena   23.34        5  espere mucho tiempo\n",
      "2 2020-01-15        mala  123.34       12            todo bien\n"
     ]
    }
   ],
   "source": [
    "# Obteniendo toda una columna\n",
    "monto = df['monto']\n",
    "print('Columna monto:\\n', monto)\n",
    "print('Tipo de dato monto:', type(monto))\n",
    "\n",
    "monto = df.monto\n",
    "print('Columna monto:\\n', monto)\n",
    "print('Tipo de dato monto:', type(monto))\n",
    "\n",
    "# Columnas monto y propina\n",
    "\n",
    "monto_y_propina = df[['monto', 'propina']]\n",
    "print('Monto y propina:\\n', monto_y_propina)\n",
    "\n",
    "#Acceder a los primeros tres renglones\n",
    "tres_renglones = df[0:3]\n",
    "print(\"Primeros tres renglones del dataframe:\\n\", tres_renglones)"
   ]
  },
  {
   "cell_type": "code",
   "execution_count": 94,
   "metadata": {},
   "outputs": [
    {
     "name": "stdout",
     "output_type": "stream",
     "text": [
      "Primeros dos renglones monto:\n",
      " 0    120.00\n",
      "1     23.34\n",
      "Name: monto, dtype: float64\n",
      "primeros_dos_renglones_de_monto_y_propina:\n",
      "     monto  propina\n",
      "0  120.00       10\n",
      "1   23.34        5\n",
      "Primeros dos renglones monto:\n",
      " 0    120.00\n",
      "1     23.34\n",
      "Name: monto, dtype: float64\n",
      "primeros_dos_renglones_de_monto_y_propina:\n",
      "     monto  propina\n",
      "0  120.00       10\n",
      "1   23.34        5\n"
     ]
    }
   ],
   "source": [
    "# Uso de loc\n",
    "primeros_dos_renglones_de_monto = df.loc[:1, 'monto']\n",
    "print(\"Primeros dos renglones monto:\\n\", primeros_dos_renglones_de_monto)\n",
    "\n",
    "primeros_dos_renglones_de_monto_y_propina = df.loc[:1, ['monto', 'propina']]\n",
    "print(\"primeros_dos_renglones_de_monto_y_propina:\\n\", primeros_dos_renglones_de_monto_y_propina)\n",
    "\n",
    "# Uso de iloc\n",
    "\n",
    "primeros_dos_renglones_de_monto = df.iloc[:2, 2]\n",
    "print(\"Primeros dos renglones monto:\\n\", primeros_dos_renglones_de_monto)\n",
    "\n",
    "primeros_dos_renglones_de_monto_y_propina = df.iloc[:2, 2:4]\n",
    "print(\"primeros_dos_renglones_de_monto_y_propina:\\n\", primeros_dos_renglones_de_monto_y_propina)"
   ]
  },
  {
   "cell_type": "code",
   "execution_count": 95,
   "metadata": {},
   "outputs": [
    {
     "name": "stdout",
     "output_type": "stream",
     "text": [
      "Experiencia buena:\n",
      "        fecha experiencia  monto  propina         opinion\n",
      "0 2020-01-13       buena  120.0       10  fria la comida\n",
      "5 2020-01-18       buena  343.3       30  Tardaron mucho\n",
      "Experiencia buena y muy buena:\n",
      "        fecha experiencia   monto  propina              opinion\n",
      "0 2020-01-13       buena  120.00       10       fria la comida\n",
      "1 2020-01-14   muy buena   23.34        5  espere mucho tiempo\n",
      "5 2020-01-18       buena  343.30       30       Tardaron mucho\n"
     ]
    }
   ],
   "source": [
    "# Accediendo a traves de un vector logico\n",
    "\n",
    "df_experiencia_buena = df[df.experiencia == 'buena']  # Experiencia buena\n",
    "print('Experiencia buena:\\n', df_experiencia_buena)\n",
    "\n",
    "df_experiencia_buena_y_muy_buena = df[df.experiencia.isin(['buena', 'muy buena'])]\n",
    "print('Experiencia buena y muy buena:\\n', df_experiencia_buena_y_muy_buena)"
   ]
  },
  {
   "cell_type": "markdown",
   "metadata": {},
   "source": [
    "## Series\n",
    "\n",
    "Series es una columna de un DataFrame este posee diversos métodos y atributos, los atributos mas destacables de Series son:\n",
    "\n",
    "| Atributo | Descripcion                                  |\n",
    "|----------|----------------------------------------------|\n",
    "| size     | Tamaño de la Serie                           |\n",
    "| dtype    | Tipo de dato de la Serie                     |\n",
    "| values   | Regresa un ndarray con la info del dataframe |"
   ]
  },
  {
   "cell_type": "code",
   "execution_count": 102,
   "metadata": {
    "ExecuteTime": {
     "end_time": "2019-01-08T01:16:43.175276Z",
     "start_time": "2019-01-08T01:16:43.164996Z"
    }
   },
   "outputs": [
    {
     "name": "stdout",
     "output_type": "stream",
     "text": [
      "0    120.00\n",
      "1     23.34\n",
      "2    123.34\n",
      "3    343.20\n",
      "4     23.40\n",
      "Name: monto, dtype: float64\n",
      "\n",
      "tamaño: 6\n",
      "\n",
      "tipo de los elementos: float64\n",
      "\n",
      "values como ndarray: [120.    23.34 123.34 343.2   23.4  343.3 ]\n",
      "\n"
     ]
    }
   ],
   "source": [
    "serie = df.monto  # Haremos una serie de la columna orde_id\n",
    "print(serie.head())  #imprimimos los primeros 5\n",
    "print(\"\\ntamaño: {}\\n\".format(serie.size))\n",
    "print(\"tipo de los elementos: {}\\n\".format(serie.dtype))\n",
    "print(\"values como ndarray: {}\\n\".format(serie.values))"
   ]
  },
  {
   "cell_type": "markdown",
   "metadata": {},
   "source": [
    "algunos métodos que posee una serie son:"
   ]
  },
  {
   "cell_type": "code",
   "execution_count": 107,
   "metadata": {
    "ExecuteTime": {
     "end_time": "2019-01-08T01:21:55.606092Z",
     "start_time": "2019-01-08T01:21:55.577685Z"
    },
    "scrolled": false
   },
   "outputs": [
    {
     "name": "stdout",
     "output_type": "stream",
     "text": [
      "Descripcion Estadistica \n",
      "count      6.000000\n",
      "mean     162.763333\n",
      "std      146.557009\n",
      "min       23.340000\n",
      "25%       47.550000\n",
      "50%      121.670000\n",
      "75%      288.235000\n",
      "max      343.300000\n",
      "Name: monto, dtype: float64\n",
      "\n",
      "media: 162.76333333333332\n",
      "\n",
      "maximo: 343.3\n",
      "\n",
      "minimo: 23.34\n",
      "\n",
      "valores unicos: [120.    23.34 123.34 343.2   23.4  343.3 ]\n",
      "\n",
      "Repeticion de cada valor unico: \n",
      "123.34    1\n",
      "23.40     1\n",
      "343.20    1\n",
      "343.30    1\n",
      "23.34     1\n",
      "120.00    1\n",
      "Name: monto, dtype: int64\n",
      "\n",
      "Moda: \n",
      "123.34    1\n",
      "Name: monto, dtype: int64\n",
      "\n",
      "ordenando de forma no ascendente \n",
      "5    343.30\n",
      "3    343.20\n",
      "2    123.34\n",
      "0    120.00\n",
      "4     23.40\n",
      "Name: monto, dtype: float64\n",
      "\n",
      "Suma de todos los elementos: 976.5799999999999\n",
      "\n"
     ]
    }
   ],
   "source": [
    "print(\"Descripcion Estadistica \\n{}\\n\".format(serie.describe()))\n",
    "print(\"media: {}\\n\".format(serie.mean()))\n",
    "print(\"maximo: {}\\n\".format(serie.max()))\n",
    "print(\"minimo: {}\\n\".format(serie.min()))\n",
    "print(\"valores unicos: {}\\n\".format(serie.unique()))\n",
    "print(\"Repeticion de cada valor unico: \\n{}\\n\".format(serie.value_counts()))\n",
    "print(\"Moda: \\n{}\\n\".format(serie.value_counts().head(1)))\n",
    "print(\"ordenando de forma no ascendente \\n{}\\n\".format(serie.sort_values(ascending = False).head()))\n",
    "print(\"Suma de todos los elementos: {}\\n\".format(serie.sum()))"
   ]
  },
  {
   "cell_type": "markdown",
   "metadata": {},
   "source": [
    "## Modificando Valores de un DataFrame\n",
    "\n",
    "Podemos modificar valores de un DataFrame usando la sintaxis de accediendo a un valor seguidamente de un igual y el nuevo valor. También es posible crear nuevas columnas en un dataframe"
   ]
  },
  {
   "cell_type": "code",
   "execution_count": 99,
   "metadata": {},
   "outputs": [
    {
     "data": {
      "text/html": [
       "<div>\n",
       "<style scoped>\n",
       "    .dataframe tbody tr th:only-of-type {\n",
       "        vertical-align: middle;\n",
       "    }\n",
       "\n",
       "    .dataframe tbody tr th {\n",
       "        vertical-align: top;\n",
       "    }\n",
       "\n",
       "    .dataframe thead th {\n",
       "        text-align: right;\n",
       "    }\n",
       "</style>\n",
       "<table border=\"1\" class=\"dataframe\">\n",
       "  <thead>\n",
       "    <tr style=\"text-align: right;\">\n",
       "      <th></th>\n",
       "      <th>fecha</th>\n",
       "      <th>experiencia</th>\n",
       "      <th>monto</th>\n",
       "      <th>propina</th>\n",
       "      <th>opinion</th>\n",
       "    </tr>\n",
       "  </thead>\n",
       "  <tbody>\n",
       "    <tr>\n",
       "      <th>0</th>\n",
       "      <td>2020-01-13</td>\n",
       "      <td>buena</td>\n",
       "      <td>120.00</td>\n",
       "      <td>10</td>\n",
       "      <td>fria la comida</td>\n",
       "    </tr>\n",
       "    <tr>\n",
       "      <th>1</th>\n",
       "      <td>2020-01-14</td>\n",
       "      <td>muy buena</td>\n",
       "      <td>23.34</td>\n",
       "      <td>15</td>\n",
       "      <td>espere mucho tiempo</td>\n",
       "    </tr>\n",
       "    <tr>\n",
       "      <th>2</th>\n",
       "      <td>2020-01-15</td>\n",
       "      <td>mala</td>\n",
       "      <td>123.34</td>\n",
       "      <td>12</td>\n",
       "      <td>todo bien</td>\n",
       "    </tr>\n",
       "    <tr>\n",
       "      <th>3</th>\n",
       "      <td>2020-01-16</td>\n",
       "      <td>NaN</td>\n",
       "      <td>343.20</td>\n",
       "      <td>45</td>\n",
       "      <td>excelente</td>\n",
       "    </tr>\n",
       "    <tr>\n",
       "      <th>4</th>\n",
       "      <td>2020-01-17</td>\n",
       "      <td>muy mala</td>\n",
       "      <td>23.40</td>\n",
       "      <td>15</td>\n",
       "      <td>mal servicio</td>\n",
       "    </tr>\n",
       "    <tr>\n",
       "      <th>5</th>\n",
       "      <td>2020-01-18</td>\n",
       "      <td>buena</td>\n",
       "      <td>343.30</td>\n",
       "      <td>30</td>\n",
       "      <td>Tardaron mucho</td>\n",
       "    </tr>\n",
       "  </tbody>\n",
       "</table>\n",
       "</div>"
      ],
      "text/plain": [
       "       fecha experiencia   monto  propina              opinion\n",
       "0 2020-01-13       buena  120.00       10       fria la comida\n",
       "1 2020-01-14   muy buena   23.34       15  espere mucho tiempo\n",
       "2 2020-01-15        mala  123.34       12            todo bien\n",
       "3 2020-01-16         NaN  343.20       45            excelente\n",
       "4 2020-01-17    muy mala   23.40       15         mal servicio\n",
       "5 2020-01-18       buena  343.30       30       Tardaron mucho"
      ]
     },
     "execution_count": 99,
     "metadata": {},
     "output_type": "execute_result"
    }
   ],
   "source": [
    "df_original = df.copy()  # Haciendo una copia de los datos\n",
    "\n",
    "df.loc[df.propina < 10, 'propina'] = 15  # Todas las propinas menores a 10 le asigno el valor de 15\n",
    "df"
   ]
  },
  {
   "cell_type": "code",
   "execution_count": 101,
   "metadata": {},
   "outputs": [
    {
     "data": {
      "text/html": [
       "<div>\n",
       "<style scoped>\n",
       "    .dataframe tbody tr th:only-of-type {\n",
       "        vertical-align: middle;\n",
       "    }\n",
       "\n",
       "    .dataframe tbody tr th {\n",
       "        vertical-align: top;\n",
       "    }\n",
       "\n",
       "    .dataframe thead th {\n",
       "        text-align: right;\n",
       "    }\n",
       "</style>\n",
       "<table border=\"1\" class=\"dataframe\">\n",
       "  <thead>\n",
       "    <tr style=\"text-align: right;\">\n",
       "      <th></th>\n",
       "      <th>fecha</th>\n",
       "      <th>experiencia</th>\n",
       "      <th>monto</th>\n",
       "      <th>propina</th>\n",
       "      <th>opinion</th>\n",
       "      <th>monto_total</th>\n",
       "    </tr>\n",
       "  </thead>\n",
       "  <tbody>\n",
       "    <tr>\n",
       "      <th>0</th>\n",
       "      <td>2020-01-13</td>\n",
       "      <td>buena</td>\n",
       "      <td>120.00</td>\n",
       "      <td>10</td>\n",
       "      <td>fria la comida</td>\n",
       "      <td>130.00</td>\n",
       "    </tr>\n",
       "    <tr>\n",
       "      <th>1</th>\n",
       "      <td>2020-01-14</td>\n",
       "      <td>muy buena</td>\n",
       "      <td>23.34</td>\n",
       "      <td>15</td>\n",
       "      <td>espere mucho tiempo</td>\n",
       "      <td>38.34</td>\n",
       "    </tr>\n",
       "    <tr>\n",
       "      <th>2</th>\n",
       "      <td>2020-01-15</td>\n",
       "      <td>mala</td>\n",
       "      <td>123.34</td>\n",
       "      <td>12</td>\n",
       "      <td>todo bien</td>\n",
       "      <td>135.34</td>\n",
       "    </tr>\n",
       "    <tr>\n",
       "      <th>3</th>\n",
       "      <td>2020-01-16</td>\n",
       "      <td>NaN</td>\n",
       "      <td>343.20</td>\n",
       "      <td>45</td>\n",
       "      <td>excelente</td>\n",
       "      <td>388.20</td>\n",
       "    </tr>\n",
       "    <tr>\n",
       "      <th>4</th>\n",
       "      <td>2020-01-17</td>\n",
       "      <td>muy mala</td>\n",
       "      <td>23.40</td>\n",
       "      <td>15</td>\n",
       "      <td>mal servicio</td>\n",
       "      <td>38.40</td>\n",
       "    </tr>\n",
       "    <tr>\n",
       "      <th>5</th>\n",
       "      <td>2020-01-18</td>\n",
       "      <td>buena</td>\n",
       "      <td>343.30</td>\n",
       "      <td>30</td>\n",
       "      <td>Tardaron mucho</td>\n",
       "      <td>373.30</td>\n",
       "    </tr>\n",
       "  </tbody>\n",
       "</table>\n",
       "</div>"
      ],
      "text/plain": [
       "       fecha experiencia   monto  propina              opinion  monto_total\n",
       "0 2020-01-13       buena  120.00       10       fria la comida       130.00\n",
       "1 2020-01-14   muy buena   23.34       15  espere mucho tiempo        38.34\n",
       "2 2020-01-15        mala  123.34       12            todo bien       135.34\n",
       "3 2020-01-16         NaN  343.20       45            excelente       388.20\n",
       "4 2020-01-17    muy mala   23.40       15         mal servicio        38.40\n",
       "5 2020-01-18       buena  343.30       30       Tardaron mucho       373.30"
      ]
     },
     "execution_count": 101,
     "metadata": {},
     "output_type": "execute_result"
    }
   ],
   "source": [
    "# Creando una nueva columna monto_total\n",
    "\n",
    "df['monto_total'] = df.monto + df.propina\n",
    "df"
   ]
  },
  {
   "cell_type": "markdown",
   "metadata": {},
   "source": [
    "## Valores Faltantes\n",
    "\n",
    "En un DataFrame existen valores faltantes podemos tratarlos con las siguientes funciones:\n",
    "\n",
    "* `dropna(how='any')`: Elimina todo el renglon si existe algun valor no disponible\n",
    "* `fillna(value=v)`: A cada valor faltante le asigna v\n",
    "* `pd.isna(DataFrame)`: Regresa true en los valores donde se encuentre un valor faltante"
   ]
  },
  {
   "cell_type": "code",
   "execution_count": 120,
   "metadata": {},
   "outputs": [
    {
     "name": "stdout",
     "output_type": "stream",
     "text": [
      "   fecha  experiencia  monto  propina  opinion\n",
      "0  False        False  False    False    False\n",
      "1  False        False  False    False    False\n",
      "2  False        False  False    False    False\n",
      "3  False         True  False    False    False\n",
      "4  False        False  False    False    False\n",
      "5  False        False  False    False    False\n",
      "       fecha experiencia   monto  propina              opinion\n",
      "0 2020-01-13       buena  120.00       10       fria la comida\n",
      "1 2020-01-14   muy buena   23.34       15  espere mucho tiempo\n",
      "2 2020-01-15        mala  123.34       12            todo bien\n",
      "4 2020-01-17    muy mala   23.40       15         mal servicio\n",
      "5 2020-01-18       buena  343.30       30       Tardaron mucho\n",
      "       fecha experiencia   monto  propina              opinion\n",
      "0 2020-01-13       buena  120.00       10       fria la comida\n",
      "1 2020-01-14   muy buena   23.34       15  espere mucho tiempo\n",
      "2 2020-01-15        mala  123.34       12            todo bien\n",
      "3 2020-01-16       buena  343.20       45            excelente\n",
      "4 2020-01-17    muy mala   23.40       15         mal servicio\n",
      "5 2020-01-18       buena  343.30       30       Tardaron mucho\n"
     ]
    }
   ],
   "source": [
    "df = df_original\n",
    "\n",
    "print(pd.isna(df))\n",
    "print(df.dropna(how='any'))\n",
    "print(df.fillna(value='buena'))"
   ]
  },
  {
   "cell_type": "markdown",
   "metadata": {},
   "source": [
    "## Funciones a un DataFrame\n",
    "\n",
    "A un DataFrame es posible aplicarle funciones cada una de estas actuara sobre las columnas correspondientes"
   ]
  },
  {
   "cell_type": "code",
   "execution_count": 139,
   "metadata": {},
   "outputs": [
    {
     "name": "stdout",
     "output_type": "stream",
     "text": [
      "Media:\n",
      " monto      162.763333\n",
      "propina     17.000000\n",
      "dtype: float64\n",
      "Maximo:\n",
      " fecha      2020-01-18 00:00:00\n",
      "monto                    343.3\n",
      "propina                     45\n",
      "opinion              todo bien\n",
      "dtype: object\n",
      "Maximo:\n",
      " fecha      2020-01-13 00:00:00\n",
      "monto                    23.34\n",
      "propina                      0\n",
      "opinion         Tardaron mucho\n",
      "dtype: object\n",
      "Funcion propia:\n",
      " monto      319.96\n",
      "propina     45.00\n",
      "dtype: float64\n"
     ]
    }
   ],
   "source": [
    "print(\"Media:\\n\", df.mean())\n",
    "print(\"Maximo:\\n\", df.max())\n",
    "print(\"Maximo:\\n\", df.min())\n",
    "print(\"Funcion propia:\\n\", df[['monto', 'propina']].apply(lambda x: x.max() - x.min()))"
   ]
  },
  {
   "cell_type": "markdown",
   "metadata": {},
   "source": [
    "## Combinar DataFrames\n",
    "\n",
    "Es posible combinar DataFrames la forma mas sencilla de hacerlo es con concat"
   ]
  },
  {
   "cell_type": "code",
   "execution_count": 136,
   "metadata": {},
   "outputs": [
    {
     "data": {
      "text/html": [
       "<div>\n",
       "<style scoped>\n",
       "    .dataframe tbody tr th:only-of-type {\n",
       "        vertical-align: middle;\n",
       "    }\n",
       "\n",
       "    .dataframe tbody tr th {\n",
       "        vertical-align: top;\n",
       "    }\n",
       "\n",
       "    .dataframe thead th {\n",
       "        text-align: right;\n",
       "    }\n",
       "</style>\n",
       "<table border=\"1\" class=\"dataframe\">\n",
       "  <thead>\n",
       "    <tr style=\"text-align: right;\">\n",
       "      <th></th>\n",
       "      <th>fecha</th>\n",
       "      <th>experiencia</th>\n",
       "      <th>monto</th>\n",
       "      <th>propina</th>\n",
       "      <th>opinion</th>\n",
       "    </tr>\n",
       "  </thead>\n",
       "  <tbody>\n",
       "    <tr>\n",
       "      <th>0</th>\n",
       "      <td>2020-01-13</td>\n",
       "      <td>buena</td>\n",
       "      <td>22.00</td>\n",
       "      <td>2</td>\n",
       "      <td>fria la comida</td>\n",
       "    </tr>\n",
       "    <tr>\n",
       "      <th>1</th>\n",
       "      <td>2020-01-14</td>\n",
       "      <td>muy buena</td>\n",
       "      <td>22.34</td>\n",
       "      <td>2</td>\n",
       "      <td>espere mucho tiempo</td>\n",
       "    </tr>\n",
       "    <tr>\n",
       "      <th>2</th>\n",
       "      <td>2020-01-15</td>\n",
       "      <td>mala</td>\n",
       "      <td>33.34</td>\n",
       "      <td>3</td>\n",
       "      <td>todo bien</td>\n",
       "    </tr>\n",
       "    <tr>\n",
       "      <th>3</th>\n",
       "      <td>2020-01-16</td>\n",
       "      <td>mala</td>\n",
       "      <td>44.20</td>\n",
       "      <td>4</td>\n",
       "      <td>excelente</td>\n",
       "    </tr>\n",
       "    <tr>\n",
       "      <th>4</th>\n",
       "      <td>2020-01-17</td>\n",
       "      <td>muy mala</td>\n",
       "      <td>56.40</td>\n",
       "      <td>5</td>\n",
       "      <td>mal servicio</td>\n",
       "    </tr>\n",
       "    <tr>\n",
       "      <th>5</th>\n",
       "      <td>2020-01-18</td>\n",
       "      <td>buena</td>\n",
       "      <td>77.30</td>\n",
       "      <td>0</td>\n",
       "      <td>Tardaron mucho</td>\n",
       "    </tr>\n",
       "  </tbody>\n",
       "</table>\n",
       "</div>"
      ],
      "text/plain": [
       "       fecha experiencia  monto  propina              opinion\n",
       "0 2020-01-13       buena  22.00        2       fria la comida\n",
       "1 2020-01-14   muy buena  22.34        2  espere mucho tiempo\n",
       "2 2020-01-15        mala  33.34        3            todo bien\n",
       "3 2020-01-16        mala  44.20        4            excelente\n",
       "4 2020-01-17    muy mala  56.40        5         mal servicio\n",
       "5 2020-01-18       buena  77.30        0       Tardaron mucho"
      ]
     },
     "execution_count": 136,
     "metadata": {},
     "output_type": "execute_result"
    }
   ],
   "source": [
    "datos2 = {\n",
    "    'fecha':pd.date_range('20200113', periods=6),\n",
    "    'experiencia':pd.Categorical(['buena', 'muy buena', 'mala', 'mala', 'muy mala', 'buena'],\n",
    "                                [\"muy mala\", \"mala\", \"regular\", \"buena\", \"muy buena\"]),\n",
    "    'monto':[22, 22.34, 33.34, 44.2, 56.4, 77.3],\n",
    "    'propina':[2, 2, 3, 4, 5, 00],\n",
    "    'opinion':['fria la comida', 'espere mucho tiempo', 'todo bien', 'excelente', 'mal servicio', 'Tardaron mucho']\n",
    "}\n",
    "df2 = pd.DataFrame(datos2)\n",
    "df2"
   ]
  },
  {
   "cell_type": "code",
   "execution_count": 138,
   "metadata": {},
   "outputs": [
    {
     "data": {
      "text/html": [
       "<div>\n",
       "<style scoped>\n",
       "    .dataframe tbody tr th:only-of-type {\n",
       "        vertical-align: middle;\n",
       "    }\n",
       "\n",
       "    .dataframe tbody tr th {\n",
       "        vertical-align: top;\n",
       "    }\n",
       "\n",
       "    .dataframe thead th {\n",
       "        text-align: right;\n",
       "    }\n",
       "</style>\n",
       "<table border=\"1\" class=\"dataframe\">\n",
       "  <thead>\n",
       "    <tr style=\"text-align: right;\">\n",
       "      <th></th>\n",
       "      <th>index</th>\n",
       "      <th>fecha</th>\n",
       "      <th>experiencia</th>\n",
       "      <th>monto</th>\n",
       "      <th>propina</th>\n",
       "      <th>opinion</th>\n",
       "    </tr>\n",
       "  </thead>\n",
       "  <tbody>\n",
       "    <tr>\n",
       "      <th>0</th>\n",
       "      <td>0</td>\n",
       "      <td>2020-01-13</td>\n",
       "      <td>buena</td>\n",
       "      <td>120.00</td>\n",
       "      <td>10</td>\n",
       "      <td>fria la comida</td>\n",
       "    </tr>\n",
       "    <tr>\n",
       "      <th>1</th>\n",
       "      <td>1</td>\n",
       "      <td>2020-01-14</td>\n",
       "      <td>muy buena</td>\n",
       "      <td>23.34</td>\n",
       "      <td>5</td>\n",
       "      <td>espere mucho tiempo</td>\n",
       "    </tr>\n",
       "    <tr>\n",
       "      <th>2</th>\n",
       "      <td>2</td>\n",
       "      <td>2020-01-15</td>\n",
       "      <td>mala</td>\n",
       "      <td>123.34</td>\n",
       "      <td>12</td>\n",
       "      <td>todo bien</td>\n",
       "    </tr>\n",
       "    <tr>\n",
       "      <th>3</th>\n",
       "      <td>3</td>\n",
       "      <td>2020-01-16</td>\n",
       "      <td>NaN</td>\n",
       "      <td>343.20</td>\n",
       "      <td>45</td>\n",
       "      <td>excelente</td>\n",
       "    </tr>\n",
       "    <tr>\n",
       "      <th>4</th>\n",
       "      <td>4</td>\n",
       "      <td>2020-01-17</td>\n",
       "      <td>muy mala</td>\n",
       "      <td>23.40</td>\n",
       "      <td>0</td>\n",
       "      <td>mal servicio</td>\n",
       "    </tr>\n",
       "    <tr>\n",
       "      <th>5</th>\n",
       "      <td>5</td>\n",
       "      <td>2020-01-18</td>\n",
       "      <td>buena</td>\n",
       "      <td>343.30</td>\n",
       "      <td>30</td>\n",
       "      <td>Tardaron mucho</td>\n",
       "    </tr>\n",
       "    <tr>\n",
       "      <th>6</th>\n",
       "      <td>0</td>\n",
       "      <td>2020-01-13</td>\n",
       "      <td>buena</td>\n",
       "      <td>22.00</td>\n",
       "      <td>2</td>\n",
       "      <td>fria la comida</td>\n",
       "    </tr>\n",
       "    <tr>\n",
       "      <th>7</th>\n",
       "      <td>1</td>\n",
       "      <td>2020-01-14</td>\n",
       "      <td>muy buena</td>\n",
       "      <td>22.34</td>\n",
       "      <td>2</td>\n",
       "      <td>espere mucho tiempo</td>\n",
       "    </tr>\n",
       "    <tr>\n",
       "      <th>8</th>\n",
       "      <td>2</td>\n",
       "      <td>2020-01-15</td>\n",
       "      <td>mala</td>\n",
       "      <td>33.34</td>\n",
       "      <td>3</td>\n",
       "      <td>todo bien</td>\n",
       "    </tr>\n",
       "    <tr>\n",
       "      <th>9</th>\n",
       "      <td>3</td>\n",
       "      <td>2020-01-16</td>\n",
       "      <td>mala</td>\n",
       "      <td>44.20</td>\n",
       "      <td>4</td>\n",
       "      <td>excelente</td>\n",
       "    </tr>\n",
       "    <tr>\n",
       "      <th>10</th>\n",
       "      <td>4</td>\n",
       "      <td>2020-01-17</td>\n",
       "      <td>muy mala</td>\n",
       "      <td>56.40</td>\n",
       "      <td>5</td>\n",
       "      <td>mal servicio</td>\n",
       "    </tr>\n",
       "    <tr>\n",
       "      <th>11</th>\n",
       "      <td>5</td>\n",
       "      <td>2020-01-18</td>\n",
       "      <td>buena</td>\n",
       "      <td>77.30</td>\n",
       "      <td>0</td>\n",
       "      <td>Tardaron mucho</td>\n",
       "    </tr>\n",
       "  </tbody>\n",
       "</table>\n",
       "</div>"
      ],
      "text/plain": [
       "    index      fecha experiencia   monto  propina              opinion\n",
       "0       0 2020-01-13       buena  120.00       10       fria la comida\n",
       "1       1 2020-01-14   muy buena   23.34        5  espere mucho tiempo\n",
       "2       2 2020-01-15        mala  123.34       12            todo bien\n",
       "3       3 2020-01-16         NaN  343.20       45            excelente\n",
       "4       4 2020-01-17    muy mala   23.40        0         mal servicio\n",
       "5       5 2020-01-18       buena  343.30       30       Tardaron mucho\n",
       "6       0 2020-01-13       buena   22.00        2       fria la comida\n",
       "7       1 2020-01-14   muy buena   22.34        2  espere mucho tiempo\n",
       "8       2 2020-01-15        mala   33.34        3            todo bien\n",
       "9       3 2020-01-16        mala   44.20        4            excelente\n",
       "10      4 2020-01-17    muy mala   56.40        5         mal servicio\n",
       "11      5 2020-01-18       buena   77.30        0       Tardaron mucho"
      ]
     },
     "execution_count": 138,
     "metadata": {},
     "output_type": "execute_result"
    }
   ],
   "source": [
    "df_grande = pd.concat([df, df2])\n",
    "df_grande = df_grande.reset_index()\n",
    "df_grande"
   ]
  },
  {
   "cell_type": "markdown",
   "metadata": {
    "ExecuteTime": {
     "end_time": "2019-01-08T01:32:15.541657Z",
     "start_time": "2019-01-08T01:32:15.530608Z"
    }
   },
   "source": [
    "## Agrupar un DataFrame\n",
    "\n",
    "Se puede agrupar un dataframe en base a una caracteristica:\n"
   ]
  },
  {
   "cell_type": "code",
   "execution_count": 142,
   "metadata": {
    "ExecuteTime": {
     "end_time": "2019-01-08T01:47:58.060347Z",
     "start_time": "2019-01-08T01:47:58.048676Z"
    }
   },
   "outputs": [
    {
     "name": "stdout",
     "output_type": "stream",
     "text": [
      "<pandas.core.groupby.generic.DataFrameGroupBy object at 0x7f1670be9b70>\n"
     ]
    }
   ],
   "source": [
    "agrupado_por_experiencia = df.groupby('experiencia')\n",
    "print(agrupado_por_experiencia)"
   ]
  },
  {
   "cell_type": "markdown",
   "metadata": {},
   "source": [
    "## Objeto GroupBy\n",
    "\n",
    "Un objeto group by es el resultado de agrupar un dataframe, a el groupby hay que aplicarle una función para que los valores iguales (la columna que utilizamos para agrupar) se puedan unir:\n",
    "\n",
    "| Función     | Descripcion         |\n",
    "|-------------|---------------------|\n",
    "| min()       | Toma el minimo      |\n",
    "| max()       | Toma el maximo      |\n",
    "| mean()      | Toma la media       |\n",
    "| sum()       | Suma de todos los valores      |\n",
    "| agregate(f) | Aplica la función f |"
   ]
  },
  {
   "cell_type": "code",
   "execution_count": 143,
   "metadata": {
    "ExecuteTime": {
     "end_time": "2019-01-08T01:51:57.274468Z",
     "start_time": "2019-01-08T01:51:57.261379Z"
    }
   },
   "outputs": [
    {
     "name": "stdout",
     "output_type": "stream",
     "text": [
      "              monto  propina\n",
      "experiencia                 \n",
      "muy mala      23.40        0\n",
      "mala         123.34       12\n",
      "regular        0.00        0\n",
      "buena        463.30       40\n",
      "muy buena     23.34        5\n"
     ]
    }
   ],
   "source": [
    "suma_experiencia = agrupado_por_experiencia.sum().head()\n",
    "print(suma_experiencia)"
   ]
  },
  {
   "cell_type": "markdown",
   "metadata": {},
   "source": [
    "## Ordenando\n",
    "\n",
    "Tambien podemos ordenar un DataFrame de una forma similar a la de una Serie:"
   ]
  },
  {
   "cell_type": "code",
   "execution_count": null,
   "metadata": {
    "ExecuteTime": {
     "end_time": "2019-01-08T01:57:25.957237Z",
     "start_time": "2019-01-08T01:57:25.947833Z"
    }
   },
   "outputs": [],
   "source": [
    "suma_cantidades_ordenado = suma_cantidades.sort_values(\"quantity\", ascending=True).head()  # Ordenamos por cantidad ascendentemente\n",
    "print(suma_cantidades_ordenado)"
   ]
  },
  {
   "cell_type": "markdown",
   "metadata": {},
   "source": [
    "## Leer Datos de Internet\n",
    "\n",
    "Una función muy usada en pandas para obtener un dataframe es read_csv() que permite leer un csv ya sea de internet o de nuestra computadora.\n",
    "\n",
    "La data (información) con la que trabajaremos estara en: https://raw.githubusercontent.com/justmarkham/DAT8/master/data/chipotle.tsv que es un tsv (archivo separado por tabs)"
   ]
  },
  {
   "cell_type": "code",
   "execution_count": 97,
   "metadata": {
    "ExecuteTime": {
     "end_time": "2019-01-07T23:45:28.354295Z",
     "start_time": "2019-01-07T23:45:27.845842Z"
    }
   },
   "outputs": [
    {
     "ename": "URLError",
     "evalue": "<urlopen error [Errno -3] Temporary failure in name resolution>",
     "output_type": "error",
     "traceback": [
      "\u001b[0;31m---------------------------------------------------------------------------\u001b[0m",
      "\u001b[0;31mgaierror\u001b[0m                                  Traceback (most recent call last)",
      "\u001b[0;32m/usr/lib/python3.6/urllib/request.py\u001b[0m in \u001b[0;36mdo_open\u001b[0;34m(self, http_class, req, **http_conn_args)\u001b[0m\n\u001b[1;32m   1317\u001b[0m                 h.request(req.get_method(), req.selector, req.data, headers,\n\u001b[0;32m-> 1318\u001b[0;31m                           encode_chunked=req.has_header('Transfer-encoding'))\n\u001b[0m\u001b[1;32m   1319\u001b[0m             \u001b[0;32mexcept\u001b[0m \u001b[0mOSError\u001b[0m \u001b[0;32mas\u001b[0m \u001b[0merr\u001b[0m\u001b[0;34m:\u001b[0m \u001b[0;31m# timeout error\u001b[0m\u001b[0;34m\u001b[0m\u001b[0;34m\u001b[0m\u001b[0m\n",
      "\u001b[0;32m/usr/lib/python3.6/http/client.py\u001b[0m in \u001b[0;36mrequest\u001b[0;34m(self, method, url, body, headers, encode_chunked)\u001b[0m\n\u001b[1;32m   1253\u001b[0m         \u001b[0;34m\"\"\"Send a complete request to the server.\"\"\"\u001b[0m\u001b[0;34m\u001b[0m\u001b[0;34m\u001b[0m\u001b[0m\n\u001b[0;32m-> 1254\u001b[0;31m         \u001b[0mself\u001b[0m\u001b[0;34m.\u001b[0m\u001b[0m_send_request\u001b[0m\u001b[0;34m(\u001b[0m\u001b[0mmethod\u001b[0m\u001b[0;34m,\u001b[0m \u001b[0murl\u001b[0m\u001b[0;34m,\u001b[0m \u001b[0mbody\u001b[0m\u001b[0;34m,\u001b[0m \u001b[0mheaders\u001b[0m\u001b[0;34m,\u001b[0m \u001b[0mencode_chunked\u001b[0m\u001b[0;34m)\u001b[0m\u001b[0;34m\u001b[0m\u001b[0;34m\u001b[0m\u001b[0m\n\u001b[0m\u001b[1;32m   1255\u001b[0m \u001b[0;34m\u001b[0m\u001b[0m\n",
      "\u001b[0;32m/usr/lib/python3.6/http/client.py\u001b[0m in \u001b[0;36m_send_request\u001b[0;34m(self, method, url, body, headers, encode_chunked)\u001b[0m\n\u001b[1;32m   1299\u001b[0m             \u001b[0mbody\u001b[0m \u001b[0;34m=\u001b[0m \u001b[0m_encode\u001b[0m\u001b[0;34m(\u001b[0m\u001b[0mbody\u001b[0m\u001b[0;34m,\u001b[0m \u001b[0;34m'body'\u001b[0m\u001b[0;34m)\u001b[0m\u001b[0;34m\u001b[0m\u001b[0;34m\u001b[0m\u001b[0m\n\u001b[0;32m-> 1300\u001b[0;31m         \u001b[0mself\u001b[0m\u001b[0;34m.\u001b[0m\u001b[0mendheaders\u001b[0m\u001b[0;34m(\u001b[0m\u001b[0mbody\u001b[0m\u001b[0;34m,\u001b[0m \u001b[0mencode_chunked\u001b[0m\u001b[0;34m=\u001b[0m\u001b[0mencode_chunked\u001b[0m\u001b[0;34m)\u001b[0m\u001b[0;34m\u001b[0m\u001b[0;34m\u001b[0m\u001b[0m\n\u001b[0m\u001b[1;32m   1301\u001b[0m \u001b[0;34m\u001b[0m\u001b[0m\n",
      "\u001b[0;32m/usr/lib/python3.6/http/client.py\u001b[0m in \u001b[0;36mendheaders\u001b[0;34m(self, message_body, encode_chunked)\u001b[0m\n\u001b[1;32m   1248\u001b[0m             \u001b[0;32mraise\u001b[0m \u001b[0mCannotSendHeader\u001b[0m\u001b[0;34m(\u001b[0m\u001b[0;34m)\u001b[0m\u001b[0;34m\u001b[0m\u001b[0;34m\u001b[0m\u001b[0m\n\u001b[0;32m-> 1249\u001b[0;31m         \u001b[0mself\u001b[0m\u001b[0;34m.\u001b[0m\u001b[0m_send_output\u001b[0m\u001b[0;34m(\u001b[0m\u001b[0mmessage_body\u001b[0m\u001b[0;34m,\u001b[0m \u001b[0mencode_chunked\u001b[0m\u001b[0;34m=\u001b[0m\u001b[0mencode_chunked\u001b[0m\u001b[0;34m)\u001b[0m\u001b[0;34m\u001b[0m\u001b[0;34m\u001b[0m\u001b[0m\n\u001b[0m\u001b[1;32m   1250\u001b[0m \u001b[0;34m\u001b[0m\u001b[0m\n",
      "\u001b[0;32m/usr/lib/python3.6/http/client.py\u001b[0m in \u001b[0;36m_send_output\u001b[0;34m(self, message_body, encode_chunked)\u001b[0m\n\u001b[1;32m   1035\u001b[0m         \u001b[0;32mdel\u001b[0m \u001b[0mself\u001b[0m\u001b[0;34m.\u001b[0m\u001b[0m_buffer\u001b[0m\u001b[0;34m[\u001b[0m\u001b[0;34m:\u001b[0m\u001b[0;34m]\u001b[0m\u001b[0;34m\u001b[0m\u001b[0;34m\u001b[0m\u001b[0m\n\u001b[0;32m-> 1036\u001b[0;31m         \u001b[0mself\u001b[0m\u001b[0;34m.\u001b[0m\u001b[0msend\u001b[0m\u001b[0;34m(\u001b[0m\u001b[0mmsg\u001b[0m\u001b[0;34m)\u001b[0m\u001b[0;34m\u001b[0m\u001b[0;34m\u001b[0m\u001b[0m\n\u001b[0m\u001b[1;32m   1037\u001b[0m \u001b[0;34m\u001b[0m\u001b[0m\n",
      "\u001b[0;32m/usr/lib/python3.6/http/client.py\u001b[0m in \u001b[0;36msend\u001b[0;34m(self, data)\u001b[0m\n\u001b[1;32m    973\u001b[0m             \u001b[0;32mif\u001b[0m \u001b[0mself\u001b[0m\u001b[0;34m.\u001b[0m\u001b[0mauto_open\u001b[0m\u001b[0;34m:\u001b[0m\u001b[0;34m\u001b[0m\u001b[0;34m\u001b[0m\u001b[0m\n\u001b[0;32m--> 974\u001b[0;31m                 \u001b[0mself\u001b[0m\u001b[0;34m.\u001b[0m\u001b[0mconnect\u001b[0m\u001b[0;34m(\u001b[0m\u001b[0;34m)\u001b[0m\u001b[0;34m\u001b[0m\u001b[0;34m\u001b[0m\u001b[0m\n\u001b[0m\u001b[1;32m    975\u001b[0m             \u001b[0;32melse\u001b[0m\u001b[0;34m:\u001b[0m\u001b[0;34m\u001b[0m\u001b[0;34m\u001b[0m\u001b[0m\n",
      "\u001b[0;32m/usr/lib/python3.6/http/client.py\u001b[0m in \u001b[0;36mconnect\u001b[0;34m(self)\u001b[0m\n\u001b[1;32m   1406\u001b[0m \u001b[0;34m\u001b[0m\u001b[0m\n\u001b[0;32m-> 1407\u001b[0;31m             \u001b[0msuper\u001b[0m\u001b[0;34m(\u001b[0m\u001b[0;34m)\u001b[0m\u001b[0;34m.\u001b[0m\u001b[0mconnect\u001b[0m\u001b[0;34m(\u001b[0m\u001b[0;34m)\u001b[0m\u001b[0;34m\u001b[0m\u001b[0;34m\u001b[0m\u001b[0m\n\u001b[0m\u001b[1;32m   1408\u001b[0m \u001b[0;34m\u001b[0m\u001b[0m\n",
      "\u001b[0;32m/usr/lib/python3.6/http/client.py\u001b[0m in \u001b[0;36mconnect\u001b[0;34m(self)\u001b[0m\n\u001b[1;32m    945\u001b[0m         self.sock = self._create_connection(\n\u001b[0;32m--> 946\u001b[0;31m             (self.host,self.port), self.timeout, self.source_address)\n\u001b[0m\u001b[1;32m    947\u001b[0m         \u001b[0mself\u001b[0m\u001b[0;34m.\u001b[0m\u001b[0msock\u001b[0m\u001b[0;34m.\u001b[0m\u001b[0msetsockopt\u001b[0m\u001b[0;34m(\u001b[0m\u001b[0msocket\u001b[0m\u001b[0;34m.\u001b[0m\u001b[0mIPPROTO_TCP\u001b[0m\u001b[0;34m,\u001b[0m \u001b[0msocket\u001b[0m\u001b[0;34m.\u001b[0m\u001b[0mTCP_NODELAY\u001b[0m\u001b[0;34m,\u001b[0m \u001b[0;36m1\u001b[0m\u001b[0;34m)\u001b[0m\u001b[0;34m\u001b[0m\u001b[0;34m\u001b[0m\u001b[0m\n",
      "\u001b[0;32m/usr/lib/python3.6/socket.py\u001b[0m in \u001b[0;36mcreate_connection\u001b[0;34m(address, timeout, source_address)\u001b[0m\n\u001b[1;32m    703\u001b[0m     \u001b[0merr\u001b[0m \u001b[0;34m=\u001b[0m \u001b[0;32mNone\u001b[0m\u001b[0;34m\u001b[0m\u001b[0;34m\u001b[0m\u001b[0m\n\u001b[0;32m--> 704\u001b[0;31m     \u001b[0;32mfor\u001b[0m \u001b[0mres\u001b[0m \u001b[0;32min\u001b[0m \u001b[0mgetaddrinfo\u001b[0m\u001b[0;34m(\u001b[0m\u001b[0mhost\u001b[0m\u001b[0;34m,\u001b[0m \u001b[0mport\u001b[0m\u001b[0;34m,\u001b[0m \u001b[0;36m0\u001b[0m\u001b[0;34m,\u001b[0m \u001b[0mSOCK_STREAM\u001b[0m\u001b[0;34m)\u001b[0m\u001b[0;34m:\u001b[0m\u001b[0;34m\u001b[0m\u001b[0;34m\u001b[0m\u001b[0m\n\u001b[0m\u001b[1;32m    705\u001b[0m         \u001b[0maf\u001b[0m\u001b[0;34m,\u001b[0m \u001b[0msocktype\u001b[0m\u001b[0;34m,\u001b[0m \u001b[0mproto\u001b[0m\u001b[0;34m,\u001b[0m \u001b[0mcanonname\u001b[0m\u001b[0;34m,\u001b[0m \u001b[0msa\u001b[0m \u001b[0;34m=\u001b[0m \u001b[0mres\u001b[0m\u001b[0;34m\u001b[0m\u001b[0;34m\u001b[0m\u001b[0m\n",
      "\u001b[0;32m/usr/lib/python3.6/socket.py\u001b[0m in \u001b[0;36mgetaddrinfo\u001b[0;34m(host, port, family, type, proto, flags)\u001b[0m\n\u001b[1;32m    744\u001b[0m     \u001b[0maddrlist\u001b[0m \u001b[0;34m=\u001b[0m \u001b[0;34m[\u001b[0m\u001b[0;34m]\u001b[0m\u001b[0;34m\u001b[0m\u001b[0;34m\u001b[0m\u001b[0m\n\u001b[0;32m--> 745\u001b[0;31m     \u001b[0;32mfor\u001b[0m \u001b[0mres\u001b[0m \u001b[0;32min\u001b[0m \u001b[0m_socket\u001b[0m\u001b[0;34m.\u001b[0m\u001b[0mgetaddrinfo\u001b[0m\u001b[0;34m(\u001b[0m\u001b[0mhost\u001b[0m\u001b[0;34m,\u001b[0m \u001b[0mport\u001b[0m\u001b[0;34m,\u001b[0m \u001b[0mfamily\u001b[0m\u001b[0;34m,\u001b[0m \u001b[0mtype\u001b[0m\u001b[0;34m,\u001b[0m \u001b[0mproto\u001b[0m\u001b[0;34m,\u001b[0m \u001b[0mflags\u001b[0m\u001b[0;34m)\u001b[0m\u001b[0;34m:\u001b[0m\u001b[0;34m\u001b[0m\u001b[0;34m\u001b[0m\u001b[0m\n\u001b[0m\u001b[1;32m    746\u001b[0m         \u001b[0maf\u001b[0m\u001b[0;34m,\u001b[0m \u001b[0msocktype\u001b[0m\u001b[0;34m,\u001b[0m \u001b[0mproto\u001b[0m\u001b[0;34m,\u001b[0m \u001b[0mcanonname\u001b[0m\u001b[0;34m,\u001b[0m \u001b[0msa\u001b[0m \u001b[0;34m=\u001b[0m \u001b[0mres\u001b[0m\u001b[0;34m\u001b[0m\u001b[0;34m\u001b[0m\u001b[0m\n",
      "\u001b[0;31mgaierror\u001b[0m: [Errno -3] Temporary failure in name resolution",
      "\nDuring handling of the above exception, another exception occurred:\n",
      "\u001b[0;31mURLError\u001b[0m                                  Traceback (most recent call last)",
      "\u001b[0;32m<ipython-input-97-e330b7e8125b>\u001b[0m in \u001b[0;36m<module>\u001b[0;34m\u001b[0m\n\u001b[0;32m----> 1\u001b[0;31m \u001b[0minfo\u001b[0m \u001b[0;34m=\u001b[0m \u001b[0mpd\u001b[0m\u001b[0;34m.\u001b[0m\u001b[0mread_csv\u001b[0m\u001b[0;34m(\u001b[0m\u001b[0;34m'https://raw.githubusercontent.com/justmarkham/DAT8/master/data/chipotle.tsv'\u001b[0m\u001b[0;34m,\u001b[0m \u001b[0msep\u001b[0m \u001b[0;34m=\u001b[0m \u001b[0;34m\"\\t\"\u001b[0m\u001b[0;34m,\u001b[0m \u001b[0mheader\u001b[0m \u001b[0;34m=\u001b[0m \u001b[0;36m0\u001b[0m\u001b[0;34m)\u001b[0m\u001b[0;34m\u001b[0m\u001b[0;34m\u001b[0m\u001b[0m\n\u001b[0m\u001b[1;32m      2\u001b[0m \u001b[0mprint\u001b[0m\u001b[0;34m(\u001b[0m\u001b[0;34m'tipo info: '\u001b[0m\u001b[0;34m,\u001b[0m\u001b[0mtype\u001b[0m\u001b[0;34m(\u001b[0m\u001b[0minfo\u001b[0m\u001b[0;34m)\u001b[0m\u001b[0;34m)\u001b[0m\u001b[0;34m\u001b[0m\u001b[0;34m\u001b[0m\u001b[0m\n\u001b[1;32m      3\u001b[0m \u001b[0minfo\u001b[0m\u001b[0;34m\u001b[0m\u001b[0;34m\u001b[0m\u001b[0m\n",
      "\u001b[0;32m~/Documents/ML/lib/python3.6/site-packages/pandas/io/parsers.py\u001b[0m in \u001b[0;36mparser_f\u001b[0;34m(filepath_or_buffer, sep, delimiter, header, names, index_col, usecols, squeeze, prefix, mangle_dupe_cols, dtype, engine, converters, true_values, false_values, skipinitialspace, skiprows, skipfooter, nrows, na_values, keep_default_na, na_filter, verbose, skip_blank_lines, parse_dates, infer_datetime_format, keep_date_col, date_parser, dayfirst, cache_dates, iterator, chunksize, compression, thousands, decimal, lineterminator, quotechar, quoting, doublequote, escapechar, comment, encoding, dialect, error_bad_lines, warn_bad_lines, delim_whitespace, low_memory, memory_map, float_precision)\u001b[0m\n\u001b[1;32m    683\u001b[0m         )\n\u001b[1;32m    684\u001b[0m \u001b[0;34m\u001b[0m\u001b[0m\n\u001b[0;32m--> 685\u001b[0;31m         \u001b[0;32mreturn\u001b[0m \u001b[0m_read\u001b[0m\u001b[0;34m(\u001b[0m\u001b[0mfilepath_or_buffer\u001b[0m\u001b[0;34m,\u001b[0m \u001b[0mkwds\u001b[0m\u001b[0;34m)\u001b[0m\u001b[0;34m\u001b[0m\u001b[0;34m\u001b[0m\u001b[0m\n\u001b[0m\u001b[1;32m    686\u001b[0m \u001b[0;34m\u001b[0m\u001b[0m\n\u001b[1;32m    687\u001b[0m     \u001b[0mparser_f\u001b[0m\u001b[0;34m.\u001b[0m\u001b[0m__name__\u001b[0m \u001b[0;34m=\u001b[0m \u001b[0mname\u001b[0m\u001b[0;34m\u001b[0m\u001b[0;34m\u001b[0m\u001b[0m\n",
      "\u001b[0;32m~/Documents/ML/lib/python3.6/site-packages/pandas/io/parsers.py\u001b[0m in \u001b[0;36m_read\u001b[0;34m(filepath_or_buffer, kwds)\u001b[0m\n\u001b[1;32m    438\u001b[0m     \u001b[0;31m# See https://github.com/python/mypy/issues/1297\u001b[0m\u001b[0;34m\u001b[0m\u001b[0;34m\u001b[0m\u001b[0;34m\u001b[0m\u001b[0m\n\u001b[1;32m    439\u001b[0m     fp_or_buf, _, compression, should_close = get_filepath_or_buffer(\n\u001b[0;32m--> 440\u001b[0;31m         \u001b[0mfilepath_or_buffer\u001b[0m\u001b[0;34m,\u001b[0m \u001b[0mencoding\u001b[0m\u001b[0;34m,\u001b[0m \u001b[0mcompression\u001b[0m\u001b[0;34m\u001b[0m\u001b[0;34m\u001b[0m\u001b[0m\n\u001b[0m\u001b[1;32m    441\u001b[0m     )\n\u001b[1;32m    442\u001b[0m     \u001b[0mkwds\u001b[0m\u001b[0;34m[\u001b[0m\u001b[0;34m\"compression\"\u001b[0m\u001b[0;34m]\u001b[0m \u001b[0;34m=\u001b[0m \u001b[0mcompression\u001b[0m\u001b[0;34m\u001b[0m\u001b[0;34m\u001b[0m\u001b[0m\n",
      "\u001b[0;32m~/Documents/ML/lib/python3.6/site-packages/pandas/io/common.py\u001b[0m in \u001b[0;36mget_filepath_or_buffer\u001b[0;34m(filepath_or_buffer, encoding, compression, mode)\u001b[0m\n\u001b[1;32m    194\u001b[0m \u001b[0;34m\u001b[0m\u001b[0m\n\u001b[1;32m    195\u001b[0m     \u001b[0;32mif\u001b[0m \u001b[0m_is_url\u001b[0m\u001b[0;34m(\u001b[0m\u001b[0mfilepath_or_buffer\u001b[0m\u001b[0;34m)\u001b[0m\u001b[0;34m:\u001b[0m\u001b[0;34m\u001b[0m\u001b[0;34m\u001b[0m\u001b[0m\n\u001b[0;32m--> 196\u001b[0;31m         \u001b[0mreq\u001b[0m \u001b[0;34m=\u001b[0m \u001b[0murlopen\u001b[0m\u001b[0;34m(\u001b[0m\u001b[0mfilepath_or_buffer\u001b[0m\u001b[0;34m)\u001b[0m\u001b[0;34m\u001b[0m\u001b[0;34m\u001b[0m\u001b[0m\n\u001b[0m\u001b[1;32m    197\u001b[0m         \u001b[0mcontent_encoding\u001b[0m \u001b[0;34m=\u001b[0m \u001b[0mreq\u001b[0m\u001b[0;34m.\u001b[0m\u001b[0mheaders\u001b[0m\u001b[0;34m.\u001b[0m\u001b[0mget\u001b[0m\u001b[0;34m(\u001b[0m\u001b[0;34m\"Content-Encoding\"\u001b[0m\u001b[0;34m,\u001b[0m \u001b[0;32mNone\u001b[0m\u001b[0;34m)\u001b[0m\u001b[0;34m\u001b[0m\u001b[0;34m\u001b[0m\u001b[0m\n\u001b[1;32m    198\u001b[0m         \u001b[0;32mif\u001b[0m \u001b[0mcontent_encoding\u001b[0m \u001b[0;34m==\u001b[0m \u001b[0;34m\"gzip\"\u001b[0m\u001b[0;34m:\u001b[0m\u001b[0;34m\u001b[0m\u001b[0;34m\u001b[0m\u001b[0m\n",
      "\u001b[0;32m/usr/lib/python3.6/urllib/request.py\u001b[0m in \u001b[0;36murlopen\u001b[0;34m(url, data, timeout, cafile, capath, cadefault, context)\u001b[0m\n\u001b[1;32m    221\u001b[0m     \u001b[0;32melse\u001b[0m\u001b[0;34m:\u001b[0m\u001b[0;34m\u001b[0m\u001b[0;34m\u001b[0m\u001b[0m\n\u001b[1;32m    222\u001b[0m         \u001b[0mopener\u001b[0m \u001b[0;34m=\u001b[0m \u001b[0m_opener\u001b[0m\u001b[0;34m\u001b[0m\u001b[0;34m\u001b[0m\u001b[0m\n\u001b[0;32m--> 223\u001b[0;31m     \u001b[0;32mreturn\u001b[0m \u001b[0mopener\u001b[0m\u001b[0;34m.\u001b[0m\u001b[0mopen\u001b[0m\u001b[0;34m(\u001b[0m\u001b[0murl\u001b[0m\u001b[0;34m,\u001b[0m \u001b[0mdata\u001b[0m\u001b[0;34m,\u001b[0m \u001b[0mtimeout\u001b[0m\u001b[0;34m)\u001b[0m\u001b[0;34m\u001b[0m\u001b[0;34m\u001b[0m\u001b[0m\n\u001b[0m\u001b[1;32m    224\u001b[0m \u001b[0;34m\u001b[0m\u001b[0m\n\u001b[1;32m    225\u001b[0m \u001b[0;32mdef\u001b[0m \u001b[0minstall_opener\u001b[0m\u001b[0;34m(\u001b[0m\u001b[0mopener\u001b[0m\u001b[0;34m)\u001b[0m\u001b[0;34m:\u001b[0m\u001b[0;34m\u001b[0m\u001b[0;34m\u001b[0m\u001b[0m\n",
      "\u001b[0;32m/usr/lib/python3.6/urllib/request.py\u001b[0m in \u001b[0;36mopen\u001b[0;34m(self, fullurl, data, timeout)\u001b[0m\n\u001b[1;32m    524\u001b[0m             \u001b[0mreq\u001b[0m \u001b[0;34m=\u001b[0m \u001b[0mmeth\u001b[0m\u001b[0;34m(\u001b[0m\u001b[0mreq\u001b[0m\u001b[0;34m)\u001b[0m\u001b[0;34m\u001b[0m\u001b[0;34m\u001b[0m\u001b[0m\n\u001b[1;32m    525\u001b[0m \u001b[0;34m\u001b[0m\u001b[0m\n\u001b[0;32m--> 526\u001b[0;31m         \u001b[0mresponse\u001b[0m \u001b[0;34m=\u001b[0m \u001b[0mself\u001b[0m\u001b[0;34m.\u001b[0m\u001b[0m_open\u001b[0m\u001b[0;34m(\u001b[0m\u001b[0mreq\u001b[0m\u001b[0;34m,\u001b[0m \u001b[0mdata\u001b[0m\u001b[0;34m)\u001b[0m\u001b[0;34m\u001b[0m\u001b[0;34m\u001b[0m\u001b[0m\n\u001b[0m\u001b[1;32m    527\u001b[0m \u001b[0;34m\u001b[0m\u001b[0m\n\u001b[1;32m    528\u001b[0m         \u001b[0;31m# post-process response\u001b[0m\u001b[0;34m\u001b[0m\u001b[0;34m\u001b[0m\u001b[0;34m\u001b[0m\u001b[0m\n",
      "\u001b[0;32m/usr/lib/python3.6/urllib/request.py\u001b[0m in \u001b[0;36m_open\u001b[0;34m(self, req, data)\u001b[0m\n\u001b[1;32m    542\u001b[0m         \u001b[0mprotocol\u001b[0m \u001b[0;34m=\u001b[0m \u001b[0mreq\u001b[0m\u001b[0;34m.\u001b[0m\u001b[0mtype\u001b[0m\u001b[0;34m\u001b[0m\u001b[0;34m\u001b[0m\u001b[0m\n\u001b[1;32m    543\u001b[0m         result = self._call_chain(self.handle_open, protocol, protocol +\n\u001b[0;32m--> 544\u001b[0;31m                                   '_open', req)\n\u001b[0m\u001b[1;32m    545\u001b[0m         \u001b[0;32mif\u001b[0m \u001b[0mresult\u001b[0m\u001b[0;34m:\u001b[0m\u001b[0;34m\u001b[0m\u001b[0;34m\u001b[0m\u001b[0m\n\u001b[1;32m    546\u001b[0m             \u001b[0;32mreturn\u001b[0m \u001b[0mresult\u001b[0m\u001b[0;34m\u001b[0m\u001b[0;34m\u001b[0m\u001b[0m\n",
      "\u001b[0;32m/usr/lib/python3.6/urllib/request.py\u001b[0m in \u001b[0;36m_call_chain\u001b[0;34m(self, chain, kind, meth_name, *args)\u001b[0m\n\u001b[1;32m    502\u001b[0m         \u001b[0;32mfor\u001b[0m \u001b[0mhandler\u001b[0m \u001b[0;32min\u001b[0m \u001b[0mhandlers\u001b[0m\u001b[0;34m:\u001b[0m\u001b[0;34m\u001b[0m\u001b[0;34m\u001b[0m\u001b[0m\n\u001b[1;32m    503\u001b[0m             \u001b[0mfunc\u001b[0m \u001b[0;34m=\u001b[0m \u001b[0mgetattr\u001b[0m\u001b[0;34m(\u001b[0m\u001b[0mhandler\u001b[0m\u001b[0;34m,\u001b[0m \u001b[0mmeth_name\u001b[0m\u001b[0;34m)\u001b[0m\u001b[0;34m\u001b[0m\u001b[0;34m\u001b[0m\u001b[0m\n\u001b[0;32m--> 504\u001b[0;31m             \u001b[0mresult\u001b[0m \u001b[0;34m=\u001b[0m \u001b[0mfunc\u001b[0m\u001b[0;34m(\u001b[0m\u001b[0;34m*\u001b[0m\u001b[0margs\u001b[0m\u001b[0;34m)\u001b[0m\u001b[0;34m\u001b[0m\u001b[0;34m\u001b[0m\u001b[0m\n\u001b[0m\u001b[1;32m    505\u001b[0m             \u001b[0;32mif\u001b[0m \u001b[0mresult\u001b[0m \u001b[0;32mis\u001b[0m \u001b[0;32mnot\u001b[0m \u001b[0;32mNone\u001b[0m\u001b[0;34m:\u001b[0m\u001b[0;34m\u001b[0m\u001b[0;34m\u001b[0m\u001b[0m\n\u001b[1;32m    506\u001b[0m                 \u001b[0;32mreturn\u001b[0m \u001b[0mresult\u001b[0m\u001b[0;34m\u001b[0m\u001b[0;34m\u001b[0m\u001b[0m\n",
      "\u001b[0;32m/usr/lib/python3.6/urllib/request.py\u001b[0m in \u001b[0;36mhttps_open\u001b[0;34m(self, req)\u001b[0m\n\u001b[1;32m   1359\u001b[0m         \u001b[0;32mdef\u001b[0m \u001b[0mhttps_open\u001b[0m\u001b[0;34m(\u001b[0m\u001b[0mself\u001b[0m\u001b[0;34m,\u001b[0m \u001b[0mreq\u001b[0m\u001b[0;34m)\u001b[0m\u001b[0;34m:\u001b[0m\u001b[0;34m\u001b[0m\u001b[0;34m\u001b[0m\u001b[0m\n\u001b[1;32m   1360\u001b[0m             return self.do_open(http.client.HTTPSConnection, req,\n\u001b[0;32m-> 1361\u001b[0;31m                 context=self._context, check_hostname=self._check_hostname)\n\u001b[0m\u001b[1;32m   1362\u001b[0m \u001b[0;34m\u001b[0m\u001b[0m\n\u001b[1;32m   1363\u001b[0m         \u001b[0mhttps_request\u001b[0m \u001b[0;34m=\u001b[0m \u001b[0mAbstractHTTPHandler\u001b[0m\u001b[0;34m.\u001b[0m\u001b[0mdo_request_\u001b[0m\u001b[0;34m\u001b[0m\u001b[0;34m\u001b[0m\u001b[0m\n",
      "\u001b[0;32m/usr/lib/python3.6/urllib/request.py\u001b[0m in \u001b[0;36mdo_open\u001b[0;34m(self, http_class, req, **http_conn_args)\u001b[0m\n\u001b[1;32m   1318\u001b[0m                           encode_chunked=req.has_header('Transfer-encoding'))\n\u001b[1;32m   1319\u001b[0m             \u001b[0;32mexcept\u001b[0m \u001b[0mOSError\u001b[0m \u001b[0;32mas\u001b[0m \u001b[0merr\u001b[0m\u001b[0;34m:\u001b[0m \u001b[0;31m# timeout error\u001b[0m\u001b[0;34m\u001b[0m\u001b[0;34m\u001b[0m\u001b[0m\n\u001b[0;32m-> 1320\u001b[0;31m                 \u001b[0;32mraise\u001b[0m \u001b[0mURLError\u001b[0m\u001b[0;34m(\u001b[0m\u001b[0merr\u001b[0m\u001b[0;34m)\u001b[0m\u001b[0;34m\u001b[0m\u001b[0;34m\u001b[0m\u001b[0m\n\u001b[0m\u001b[1;32m   1321\u001b[0m             \u001b[0mr\u001b[0m \u001b[0;34m=\u001b[0m \u001b[0mh\u001b[0m\u001b[0;34m.\u001b[0m\u001b[0mgetresponse\u001b[0m\u001b[0;34m(\u001b[0m\u001b[0;34m)\u001b[0m\u001b[0;34m\u001b[0m\u001b[0;34m\u001b[0m\u001b[0m\n\u001b[1;32m   1322\u001b[0m         \u001b[0;32mexcept\u001b[0m\u001b[0;34m:\u001b[0m\u001b[0;34m\u001b[0m\u001b[0;34m\u001b[0m\u001b[0m\n",
      "\u001b[0;31mURLError\u001b[0m: <urlopen error [Errno -3] Temporary failure in name resolution>"
     ]
    }
   ],
   "source": [
    "info = pd.read_csv('https://raw.githubusercontent.com/justmarkham/DAT8/master/data/chipotle.tsv', sep = \"\\t\", header = 0)\n",
    "print('tipo info: ',type(info))\n",
    "info"
   ]
  }
 ],
 "metadata": {
  "kernelspec": {
   "display_name": "Python 3",
   "language": "python",
   "name": "python3"
  },
  "language_info": {
   "codemirror_mode": {
    "name": "ipython",
    "version": 3
   },
   "file_extension": ".py",
   "mimetype": "text/x-python",
   "name": "python",
   "nbconvert_exporter": "python",
   "pygments_lexer": "ipython3",
   "version": "3.6.9"
  }
 },
 "nbformat": 4,
 "nbformat_minor": 2
}
