{
 "cells": [
  {
   "cell_type": "markdown",
   "metadata": {},
   "source": [
    "# NumPy\n",
    "\n",
    "NumPy es la principal biblioteca de la computación científica en python. El corazón de NumPy es la clase ndarray con esta podemos realizar diferentes tipos de operaciones matemáticas como:\n",
    "* Algebra Lineal Basica\n",
    "* Operaciones Lógicas\n",
    "* Ordenamiento\n",
    "* Operaciones estadísticas básicas\n",
    "* Transformaciones discretas de Fourier\n",
    "\n",
    "## Arreglo \n",
    "Es una colección de elementos de un mismo tipo de dato. La dimensión de un arreglo es la cantidad de indices necesarias para acceder a un elemento del arreglo.\n",
    "\n",
    "![](../img/img_00.jpg)\n",
    "\n",
    "## ndarray\n",
    "\n",
    "Para la creación de un arreglo en NumPy, se utiliza la clase **ndarray**.\n",
    "\n"
   ]
  },
  {
   "cell_type": "code",
   "execution_count": 1,
   "metadata": {},
   "outputs": [
    {
     "name": "stdout",
     "output_type": "stream",
     "text": [
      "[[1 2]\n",
      " [3 4]]\n"
     ]
    }
   ],
   "source": [
    "# Importamos NumPy\n",
    "import numpy as np # Por convención se usa el pseudonimo np\n",
    "\n",
    "# Recibe como parametro una lista\n",
    "arreglo = np.array([[1, 2],\n",
    "                    [3, 4]])\n",
    "\n",
    "lista = [[3, 4],[5, 6]]\n",
    "\n",
    "arreglo_lista = np.array(lista)\n",
    "\n",
    "print(arreglo)"
   ]
  },
  {
   "cell_type": "markdown",
   "metadata": {},
   "source": [
    "## Atributos ndarray\n",
    "\n",
    "Los atributos más importantes del ndarray son los siguientes.\n",
    "\n",
    "| Atributo | Descripción                                                    |\n",
    "|----------|----------------------------------------------------------------|\n",
    "| ndim     | Número de dimensiones del arreglo                              |\n",
    "| size     | Número total de elementos del arreglo.                         |\n",
    "| shape    | Tupla de la cantidad de elementos de cada dimensión.           |\n",
    "| dtype    | Tipo de dato de los elementos arreglo(Tipos propios de numpy). |"
   ]
  },
  {
   "cell_type": "code",
   "execution_count": 2,
   "metadata": {},
   "outputs": [
    {
     "name": "stdout",
     "output_type": "stream",
     "text": [
      "Número de dimensiones del arreglo: 2\n",
      "Número total de elementos del arreglo: 9\n",
      "Cantidad de elementos de cada dimensión: (3, 3)\n",
      "Tipo de dato de los elementos arreglo: int64\n"
     ]
    }
   ],
   "source": [
    "arreglo_1 = np.array([[1, 2, 3],\n",
    "                      [4, 5, 6],\n",
    "                      [7, 8, 9]]) \n",
    "\n",
    "print(\"Número de dimensiones del arreglo: {}\".format(arreglo_1.ndim))\n",
    "print(\"Número total de elementos del arreglo: {}\".format(arreglo_1.size))\n",
    "print(\"Cantidad de elementos de cada dimensión: {}\".format(arreglo_1.shape))\n",
    "print(\"Tipo de dato de los elementos arreglo: {}\".format(arreglo_1.dtype))"
   ]
  },
  {
   "cell_type": "markdown",
   "metadata": {},
   "source": [
    "## Escalares"
   ]
  },
  {
   "cell_type": "code",
   "execution_count": 3,
   "metadata": {},
   "outputs": [
    {
     "name": "stdout",
     "output_type": "stream",
     "text": [
      "x:  6\n",
      "x ndim:  0\n",
      "x shape: ()\n",
      "x size:  1\n",
      "x dtype:  int64\n"
     ]
    }
   ],
   "source": [
    "x = np.array(6)\n",
    "print (\"x: \", x)\n",
    "print (\"x ndim: \", x.ndim)\n",
    "print (\"x shape:\", x.shape)\n",
    "print (\"x size: \", x.size)\n",
    "print (\"x dtype: \", x.dtype)"
   ]
  },
  {
   "cell_type": "markdown",
   "metadata": {},
   "source": [
    "## Vectores"
   ]
  },
  {
   "cell_type": "code",
   "execution_count": 4,
   "metadata": {},
   "outputs": [
    {
     "name": "stdout",
     "output_type": "stream",
     "text": [
      "x:  [1.3 2.2 1.7]\n",
      "x ndim:  1\n",
      "x shape: (3,)\n",
      "x size:  3\n",
      "x dtype:  float64\n"
     ]
    }
   ],
   "source": [
    "x = np.array([1.3 , 2.2 , 1.7])\n",
    "print (\"x: \", x)\n",
    "print (\"x ndim: \", x.ndim)\n",
    "print (\"x shape:\", x.shape)\n",
    "print (\"x size: \", x.size)\n",
    "print (\"x dtype: \", x.dtype) "
   ]
  },
  {
   "cell_type": "markdown",
   "metadata": {},
   "source": [
    "### Funciones utiles para crear Vectores\n",
    "\n",
    "* `arange()`: es una función util para crear un vector. Recibe el inicio, el fin, del vector y el incremento en cada elemento y crea un vector con elementos dados por el intervalo y que se distribuyan de acuerdo al incremento\n",
    "* `linspace()`: es una función util para crear un vector. Recibe el inicio, el fin del vector y el tamaño del mismo y crea un vector con elementos segmentados uniformemente"
   ]
  },
  {
   "cell_type": "code",
   "execution_count": 5,
   "metadata": {},
   "outputs": [
    {
     "name": "stdout",
     "output_type": "stream",
     "text": [
      "Vector de 0 a 8: [0 1 2 3 4 5 6 7 8] \n",
      "Vector de 2 a 9: [2 3 4 5 6 7 8 9] \n",
      "Vector de 1 a 12 con incrementos de 3: [ 1  4  7 10 13] \n"
     ]
    }
   ],
   "source": [
    "# arange\n",
    "\n",
    "vector_cero_al_ocho = np.arange(9)  # Crea un vector que posee los enteros del cero al ocho\n",
    "print(\"Vector de 0 a 8: {} \".format(vector_cero_al_ocho))\n",
    "\n",
    "vector_dos_al_nueve = np.arange(2, 10)  # Crea un vector que posee los enteros del 2 al 9\n",
    "print(\"Vector de 2 a 9: {} \".format(vector_dos_al_nueve))\n",
    "\n",
    "vector_uno_al_doce_de_tres_en_tres = np.arange(1, 14, 3)  # Crea un vector que posee los enteros del 1 al 13 con incrementos de 3\n",
    "print(\"Vector de 1 a 12 con incrementos de 3: {} \".format(vector_uno_al_doce_de_tres_en_tres))"
   ]
  },
  {
   "cell_type": "code",
   "execution_count": 6,
   "metadata": {},
   "outputs": [
    {
     "name": "stdout",
     "output_type": "stream",
     "text": [
      "Vector de linspace de 0 a 8 sin especificar cantidad de elementos: \n",
      "[0.         0.16326531 0.32653061 0.48979592 0.65306122 0.81632653\n",
      " 0.97959184 1.14285714 1.30612245 1.46938776 1.63265306 1.79591837\n",
      " 1.95918367 2.12244898 2.28571429 2.44897959 2.6122449  2.7755102\n",
      " 2.93877551 3.10204082 3.26530612 3.42857143 3.59183673 3.75510204\n",
      " 3.91836735 4.08163265 4.24489796 4.40816327 4.57142857 4.73469388\n",
      " 4.89795918 5.06122449 5.2244898  5.3877551  5.55102041 5.71428571\n",
      " 5.87755102 6.04081633 6.20408163 6.36734694 6.53061224 6.69387755\n",
      " 6.85714286 7.02040816 7.18367347 7.34693878 7.51020408 7.67346939\n",
      " 7.83673469 8.        ]\n",
      "Vector de 9 elementos segmentados uniformemente entre 1 y 10 : [ 1.     2.125  3.25   4.375  5.5    6.625  7.75   8.875 10.   ]\n"
     ]
    }
   ],
   "source": [
    "# linspace\n",
    "\n",
    "vector_de_cero_a_ocho = np.linspace(0, 8)  \n",
    "print(\"Vector de linspace de 0 a 8 sin especificar cantidad de elementos: \\n{}\".format(vector_de_cero_a_ocho))\n",
    "\n",
    "vector_de_cero_a_ocho = np.linspace(1, 10, 9)  \n",
    "print(\"Vector de 9 elementos segmentados uniformemente entre 1 y 10 : {}\".format(vector_de_cero_a_ocho))"
   ]
  },
  {
   "cell_type": "markdown",
   "metadata": {},
   "source": [
    "### Indexación\n",
    "\n",
    "Para acceder a los elementos de un arreglo utilizamos indices o un arreglo de elementos de tipo logico. Recordemos que los indices de un arreglo en programación, empiezan en el número 0.\n",
    "\n",
    "Para acceder a los elementos de un arreglo mediante indices simplemente escribimos dentro de los corchetes el indice al que queremos acceder, en caso de acceder a un intervalo debemos indicarllo de la forma `v[a:b]` donde el intervalo es de la forma `[a,b)` es decir accedemos a los elementos cuyos indices van de (a) a (b-1)\n",
    "\n",
    "Se incluyen ejemplos de ambas formas en la parte de abajo\n",
    "\n",
    "![](../img/img_01.png)"
   ]
  },
  {
   "cell_type": "code",
   "execution_count": 7,
   "metadata": {
    "scrolled": true
   },
   "outputs": [
    {
     "name": "stdout",
     "output_type": "stream",
     "text": [
      "Todo el vector: [2 3 4 5 6 7 8 9]\n",
      "Todo el vector: [2 3 4 5 6 7 8 9]\n",
      "Primer elemento: 2\n",
      "Ultimo Elemento: 9\n",
      "Excepto el ultimo elemento: [2 3 4 5 6 7 8]\n",
      "Excepto el primero: [3 4 5 6 7 8 9]\n",
      "Del segundo al antepenultimo: [4 5 6 7]\n",
      "Del segundo al antepenultimo de dos en dos: [4 6]\n",
      "Orden inverso [9 8 7 6 5 4 3 2]\n",
      "Del antepenultimo al segundo en orden inverso: [8 7 6 5]\n"
     ]
    }
   ],
   "source": [
    "v = np.arange(2, 10)\n",
    "print(\"Todo el vector:\", v)   # Muestra todo el vector\n",
    "print(\"Todo el vector:\", v[:])  # Muestra todo el vector\n",
    "print(\"Primer elemento:\", v[0])  # Muestra el primer elmento\n",
    "print(\"Ultimo Elemento:\", v[-1])  # Ultimo elemento\n",
    "print(\"Excepto el ultimo elemento:\", v[:-1])  # Excepto el último\n",
    "print(\"Excepto el primero:\", v[1:])  # Excepto el primero\n",
    "print(\"Del segundo al antepenultimo:\", v[2:-2])  # Del segundo al antepenultimo\n",
    "print(\"Del segundo al antepenultimo de dos en dos:\", v[2:-2:2])  # Del segundo al antepenultimo de dos en dos\n",
    "print(\"Orden inverso\", v[::-1])  # Orden inverso\n",
    "print(\"Del antepenultimo al segundo en orden inverso:\", v[-2:2:-1])"
   ]
  },
  {
   "cell_type": "code",
   "execution_count": 8,
   "metadata": {},
   "outputs": [
    {
     "name": "stdout",
     "output_type": "stream",
     "text": [
      "Vector Original: [3 4 5 6 7 8 9]\n",
      "Vector resultante de acceder por indices contenidos en un vector: [4 6 7]\n",
      "Vector Booleano: [3 4 5 6 7 8 9]\n",
      "Valores accedidos por el vector booleano: [4 6 8]\n"
     ]
    }
   ],
   "source": [
    "v = np.arange(3, 10)\n",
    "print(\"Vector Original:\", v)\n",
    "\n",
    "indices_a_los_que_queremos_acceder = np.array([1,3,4])\n",
    "print(\"Vector resultante de acceder por indices contenidos en un vector:\", v[indices_a_los_que_queremos_acceder])\n",
    "\n",
    "vector_booleano = v % 2 == 0\n",
    "print(\"Vector Booleano:\", v)\n",
    "print(\"Valores accedidos por el vector booleano:\", v[vector_booleano])"
   ]
  },
  {
   "cell_type": "markdown",
   "metadata": {},
   "source": [
    "### Funciones Importantes hhhhhhhhh\n",
    "\n",
    "Las funciones más comunes que se realizan con vectores son las siguientes hhhhh"
   ]
  },
  {
   "cell_type": "code",
   "execution_count": 9,
   "metadata": {},
   "outputs": [
    {
     "name": "stdout",
     "output_type": "stream",
     "text": [
      "El elemento menor del vector es: -4\n",
      "El elemento mayor del vector es: 3\n",
      "La desviación estandar del vector es: 2.4819347291981715\n",
      "La suma de todos los elementos del vector es: -4\n",
      "El vector ordenado es: [-4 -2 -2  1  3]\n",
      "Indice del elemento mayor: 2\n",
      "Indice del elemento menor: 3\n"
     ]
    }
   ],
   "source": [
    "v = np.array([1, -2, 3, -4, -2]) # Creamos un vector\n",
    "\n",
    "print(\"El elemento menor del vector es:\", v.min())\n",
    "print(\"El elemento mayor del vector es:\", v.max())\n",
    "print(\"La desviación estandar del vector es:\", v.std())\n",
    "print(\"La suma de todos los elementos del vector es:\", v.sum())\n",
    "print(\"El vector ordenado es:\", np.sort(v))\n",
    "print(\"Indice del elemento mayor:\", np.argmax(v))\n",
    "print(\"Indice del elemento menor:\", np.argmin(v))\n",
    "\n",
    "# Concatenar vectores"
   ]
  },
  {
   "cell_type": "markdown",
   "metadata": {},
   "source": [
    "### Operaciones con Vectores\n",
    "\n",
    "Estas son las operaciones más comunes que se pueden hacer con vectores"
   ]
  },
  {
   "cell_type": "code",
   "execution_count": 10,
   "metadata": {},
   "outputs": [
    {
     "name": "stdout",
     "output_type": "stream",
     "text": [
      "suma x+y= [3.3 6.2 6.7]\n",
      "producto uno a uno [2.6 8.8 8.5]\n",
      "producto punto 19.9\n",
      "producto escalar [13. 22. 17.]\n"
     ]
    }
   ],
   "source": [
    "c = 10\n",
    "y = np.array([2,4,5])\n",
    "print(\"suma x+y=\", x+y)\n",
    "print(\"producto uno a uno\", x*y)\n",
    "print(\"producto punto\", x@y)\n",
    "print(\"producto escalar\", x*c)"
   ]
  },
  {
   "cell_type": "markdown",
   "metadata": {},
   "source": [
    "## Matriz"
   ]
  },
  {
   "cell_type": "code",
   "execution_count": 11,
   "metadata": {},
   "outputs": [
    {
     "name": "stdout",
     "output_type": "stream",
     "text": [
      "x:\n",
      " [[1 2 3]\n",
      " [4 5 6]\n",
      " [7 8 9]]\n",
      "x ndim:  2\n",
      "x shape: (3, 3)\n",
      "x size:  9\n",
      "x dtype:  int64\n"
     ]
    }
   ],
   "source": [
    "x = np.array([[1,2,3], [4,5,6], [7,8,9]])\n",
    "print (\"x:\\n\", x)\n",
    "print (\"x ndim: \", x.ndim)\n",
    "print (\"x shape:\", x.shape)\n",
    "print (\"x size: \", x.size)\n",
    "print (\"x dtype: \", x.dtype)"
   ]
  },
  {
   "cell_type": "markdown",
   "metadata": {},
   "source": [
    "## Funciones para crear Matrices\n",
    "\n",
    "Las funciones para crear matrices son:\n",
    "* `np.eye(n)`: permite crear la matriz identidad de orden n"
   ]
  },
  {
   "cell_type": "code",
   "execution_count": 12,
   "metadata": {
    "scrolled": true
   },
   "outputs": [
    {
     "name": "stdout",
     "output_type": "stream",
     "text": [
      "Matriz Identidad:\n",
      " [[1. 0. 0. 0. 0. 0. 0. 0. 0. 0.]\n",
      " [0. 1. 0. 0. 0. 0. 0. 0. 0. 0.]\n",
      " [0. 0. 1. 0. 0. 0. 0. 0. 0. 0.]\n",
      " [0. 0. 0. 1. 0. 0. 0. 0. 0. 0.]\n",
      " [0. 0. 0. 0. 1. 0. 0. 0. 0. 0.]\n",
      " [0. 0. 0. 0. 0. 1. 0. 0. 0. 0.]\n",
      " [0. 0. 0. 0. 0. 0. 1. 0. 0. 0.]\n",
      " [0. 0. 0. 0. 0. 0. 0. 1. 0. 0.]\n",
      " [0. 0. 0. 0. 0. 0. 0. 0. 1. 0.]\n",
      " [0. 0. 0. 0. 0. 0. 0. 0. 0. 1.]]\n"
     ]
    }
   ],
   "source": [
    "matriz_identidad = np.eye(10)  # Matriz identidad de orden 10\n",
    "print(\"Matriz Identidad:\\n\", matriz_identidad)"
   ]
  },
  {
   "cell_type": "markdown",
   "metadata": {},
   "source": [
    "## Indexación\n",
    "\n",
    "Para acceder a elementos de una matriz se realiza de forma similar que con vector, es decir, los indices dentro de corchetes. La matriz al ser de dimension dos (dos ejes) se requieren dos indices para acceder a un elemento de la misma. Los indices empiezan en 0."
   ]
  },
  {
   "cell_type": "code",
   "execution_count": 13,
   "metadata": {},
   "outputs": [
    {
     "name": "stdout",
     "output_type": "stream",
     "text": [
      "Toda la matriz:\n",
      " [[1 2 3]\n",
      " [4 5 6]\n",
      " [7 8 9]]\n",
      "Toda la matriz:\n",
      " [[1 2 3]\n",
      " [4 5 6]\n",
      " [7 8 9]]\n",
      "Accediendo a los elementos del renglon 1: [4 5 6]\n",
      "Accediendo a toda la matriz:\n",
      " [[1 2 3]\n",
      " [4 5 6]\n",
      " [7 8 9]]\n",
      "Accediendo a toda la matriz:\n",
      " [[1 2 3]\n",
      " [4 5 6]\n",
      " [7 8 9]]\n",
      "Accediendo al elemento '6': 6\n",
      "Accediendo al elemento '6': 6\n",
      "Accediendo a los elementos de la columna tres: [3 6 9]\n",
      "Accediendo a los elementos de la columna tres y dos  y asociados al renglon 1 [8 9]\n",
      "Accediendo a los elementos con renglones [0, 1] y columnas [0, 2] respectivamente: [1 6]\n",
      "Accediendo a los elementos con renglones [True, True, False] y columnas [True, False, True] respectivamente: [1 6]\n"
     ]
    }
   ],
   "source": [
    "m = np.array([[1,2,3],\n",
    "             [4,5,6],\n",
    "             [7,8,9]])\n",
    "print(\"Toda la matriz:\\n\", m)  # Accedemos a todos los elementos\n",
    "print(\"Toda la matriz:\\n\", m[:])  # Accedemos a todos los elementos\n",
    "print(\"Accediendo a los elementos del renglon 1:\", m[1])  # Accediendo a los elementos del renglon 1\n",
    "print(\"Accediendo a toda la matriz:\\n\", m[:, :])\n",
    "print(\"Accediendo a toda la matriz:\\n\", m[:, ])\n",
    "print(\"Accediendo al elemento '6':\", m[1, 2])\n",
    "print(\"Accediendo al elemento '6':\", m[1][2])\n",
    "print(\"Accediendo a los elementos de la columna tres:\", m[:, 2])\n",
    "print(\"Accediendo a los elementos de la columna tres y dos  y asociados al renglon 1\", m[2, 1:])\n",
    "\n",
    "col = [0, 2]\n",
    "ren = [0, 1]\n",
    "print(\"Accediendo a los elementos con renglones\", ren, \"y columnas\", col, \"respectivamente:\", m[ren, col])\n",
    "\n",
    "ren = [True, True, False]\n",
    "col = [True, False, True]\n",
    "print(\"Accediendo a los elementos con renglones\", ren, \"y columnas\", col, \"respectivamente:\", m[ren, col])"
   ]
  },
  {
   "cell_type": "code",
   "execution_count": 14,
   "metadata": {},
   "outputs": [
    {
     "name": "stdout",
     "output_type": "stream",
     "text": [
      "matriz booleana:\n",
      " [[False  True False]\n",
      " [ True False  True]\n",
      " [False  True False]]\n",
      "elementos pares:\n",
      " [2 4 6 8]\n"
     ]
    }
   ],
   "source": [
    "# Accediendo mediante una matriz booleana\n",
    "\n",
    "m = np.array([[1,2,3],\n",
    "             [4,5,6],\n",
    "             [7,8,9]])\n",
    "m_pares = m % 2 == 0\n",
    "print(\"matriz booleana:\\n\", m_pares)\n",
    "print(\"elementos pares:\\n\", m[m_pares])"
   ]
  },
  {
   "cell_type": "markdown",
   "metadata": {},
   "source": [
    "### Ejes\n",
    "\n",
    "Los axis(ejes) de un arreglo de numpy son la orientación de los indices en el arreglo\n",
    "\n",
    "![](../img/img_05.png)\n",
    "\n",
    "#### Operaciones sobre ejes\n",
    "\n",
    "Numpy nos facilita el trabajo cuando estamos operando matrices. Ofrece funciones que se pueden aplicar sobre un eje o sobre toda la matriz. Algunos ejemplos:"
   ]
  },
  {
   "cell_type": "code",
   "execution_count": 15,
   "metadata": {},
   "outputs": [
    {
     "name": "stdout",
     "output_type": "stream",
     "text": [
      "Toda la matriz:\n",
      " [[3 2 4]\n",
      " [1 5 6]\n",
      " [7 8 9]]\n",
      "Mayor de toda la matriz: 9\n",
      "Mayor en cada columna: [7 8 9]\n",
      "Mayor en cada renglon: [4 6 9]\n",
      "Matriz Ordenada por cada Renglon:\n",
      " [[2 3 4]\n",
      " [1 5 6]\n",
      " [7 8 9]]\n",
      "Covarianza de la matriz:\n",
      " [[1.  0.5 0.5]\n",
      " [0.5 7.  2.5]\n",
      " [0.5 2.5 1. ]]\n",
      "El elemento menor de la matriz es: 1\n",
      "La desviación estandar de la matriz es: 2.581988897471611\n",
      "La suma de todos los elementos de la matriz es: 45\n",
      "Posición del elemento mayor: 8\n",
      "Posición del elemento menor: 3\n"
     ]
    }
   ],
   "source": [
    "# En la mayoría de las funciones podemos especificar a que eje (dimension) lo aplicaremos\n",
    "# Funcion argmax\n",
    "m = np.array([[3,2,4],\n",
    "              [1,5,6],\n",
    "              [7,8,9]])\n",
    "\n",
    "print(\"Toda la matriz:\\n\", m)\n",
    "print(\"Mayor de toda la matriz:\", m.max())\n",
    "print(\"Mayor en cada columna:\", m.max(axis=0))\n",
    "print(\"Mayor en cada renglon:\", m.max(axis=1))\n",
    "\n",
    "print(\"Matriz Ordenada por cada Renglon:\\n\", np.sort(m))\n",
    "print(\"Covarianza de la matriz:\\n\", np.cov(m))\n",
    "\n",
    "# Las siguientes funciones también se pueden realizar por axis\n",
    "print(\"El elemento menor de la matriz es:\", m.min())\n",
    "print(\"La desviación estandar de la matriz es:\", m.std())\n",
    "print(\"La suma de todos los elementos de la matriz es:\", m.sum())\n",
    "print(\"Posición del elemento mayor:\", np.argmax(m))\n",
    "print(\"Posición del elemento menor:\", np.argmin(m))"
   ]
  },
  {
   "cell_type": "markdown",
   "metadata": {},
   "source": [
    "### Opearciones con Matrices\n",
    "\n",
    "#### Suma y Resta de matrices\n",
    "\n",
    "Numpy realiza la suma y resta usual de matrices\n",
    "\n",
    "#### Multplicación y Division de matrices\n",
    "\n",
    "Para realizar mutliplicacón de arreglos se utiliza el producto de Hadamard o mutliplicación element-wise(Elemento por elemento)\n",
    "\n",
    "![](../img/img_03.png)\n",
    "\n",
    "![](../img/img_02.png)\n",
    "\n",
    "Y la divsion de Hadamard se denota así:\n",
    "\n",
    "![](../img/img_04.png)"
   ]
  },
  {
   "cell_type": "code",
   "execution_count": 16,
   "metadata": {},
   "outputs": [
    {
     "name": "stdout",
     "output_type": "stream",
     "text": [
      "suma matricial\n",
      " [[ 2.  2.  3.]\n",
      " [ 4.  6.  6.]\n",
      " [ 7.  8. 10.]]\n",
      "producto hadamart\n",
      " [[1. 0. 0.]\n",
      " [0. 5. 0.]\n",
      " [0. 0. 9.]]\n",
      "producto matricial\n",
      " [[1. 2. 3.]\n",
      " [4. 5. 6.]\n",
      " [7. 8. 9.]]\n",
      "producto escalar\n",
      " [[ 4. +5.j  8.+10.j 12.+15.j]\n",
      " [16.+20.j 20.+25.j 24.+30.j]\n",
      " [28.+35.j 32.+40.j 36.+45.j]]\n",
      "Transpuesta de x\n",
      " [[1 4]\n",
      " [2 5]\n",
      " [3 6]]\n"
     ]
    }
   ],
   "source": [
    "c = 4+5j\n",
    "y = np.eye(3)\n",
    "print(\"suma matricial\\n\", x+y)\n",
    "print(\"producto hadamart\\n\", x*y)\n",
    "print(\"producto matricial\\n\", x@y)\n",
    "print(\"producto escalar\\n\", x*c)\n",
    "x = np.array([[1,2,3], [4,5,6]])\n",
    "print(\"Transpuesta de x\\n\", x.T)"
   ]
  },
  {
   "cell_type": "markdown",
   "metadata": {},
   "source": [
    "### Funciones Relacionadas con Algebra Lineal"
   ]
  },
  {
   "cell_type": "code",
   "execution_count": 39,
   "metadata": {},
   "outputs": [
    {
     "name": "stdout",
     "output_type": "stream",
     "text": [
      "Transpuesta:\n",
      " [[1 3]\n",
      " [2 4]]\n",
      "Inversa:\n",
      " [[-2.   1. ]\n",
      " [ 1.5 -0.5]]\n",
      "Pseudo inversa:\n",
      " [[-2.   1. ]\n",
      " [ 1.5 -0.5]]\n",
      "Pseudo inversa:\n",
      " [[-0.94444444  0.44444444]\n",
      " [-0.11111111  0.11111111]\n",
      " [ 0.72222222 -0.22222222]]\n",
      "Determinante: -2.0000000000000004\n",
      "Vector a partir de m:  [1 2 3 4]\n"
     ]
    }
   ],
   "source": [
    "m = np.array([[1, 2],\n",
    "             [3, 4]])\n",
    "m2 = np.array([[1,2,3],\n",
    "              [4,5,6]])\n",
    "\n",
    "print(\"Transpuesta:\\n\", m.T)\n",
    "print(\"Inversa:\\n\", np.linalg.inv(m))\n",
    "print(\"Pseudo inversa:\\n\", np.linalg.pinv(m))\n",
    "\n",
    "#print(\"Inversa:\\n\", np.linalg.inv(m2))\n",
    "print(\"Pseudo inversa:\\n\", np.linalg.pinv(m2))\n",
    "\n",
    "#Determinante\n",
    "print(\"Determinante:\", np.linalg.det(m))\n",
    "\n",
    "# De matriz a vector\n",
    "print(\"Vector a partir de m: \", m.flatten())  # 'F'"
   ]
  },
  {
   "cell_type": "markdown",
   "metadata": {},
   "source": [
    "#### Resolver un Sistema de Ecuaciones\n",
    "\n",
    "Sea el sistema de ecuaciones:\n",
    "$$2x_1+3x_2=11$$\n",
    "$$3x_1+5x_2=21$$"
   ]
  },
  {
   "cell_type": "code",
   "execution_count": 35,
   "metadata": {},
   "outputs": [
    {
     "name": "stdout",
     "output_type": "stream",
     "text": [
      "Usando multiplicación de matrices:\n",
      " [-8.  9.]\n",
      "Usando función de numpy:\n",
      " [-8.  9.]\n"
     ]
    }
   ],
   "source": [
    "m = np.array([[2, 3],\n",
    "              [3, 5]])\n",
    "y = np.array([11, 21])\n",
    "print(\"Usando multiplicación de matrices:\\n\", np.linalg.inv(m) @ y)\n",
    "print(\"Usando función de numpy:\\n\", np.linalg.solve(m, y))"
   ]
  },
  {
   "cell_type": "markdown",
   "metadata": {},
   "source": [
    "## Tensor"
   ]
  },
  {
   "cell_type": "code",
   "execution_count": 37,
   "metadata": {},
   "outputs": [
    {
     "name": "stdout",
     "output_type": "stream",
     "text": [
      "t:\n",
      " [[[1 2]\n",
      "  [3 4]]\n",
      "\n",
      " [[5 6]\n",
      "  [7 8]]]\n",
      "t ndim:  3\n",
      "t shape: (2, 2, 2)\n",
      "t size:  8\n",
      "t dtype:  int64\n"
     ]
    }
   ],
   "source": [
    "t = np.array([\n",
    "              [[1,2],\n",
    "               [3,4]],\n",
    "\n",
    "              [[5,6],\n",
    "               [7,8]]\n",
    "             ])\n",
    "print (\"t:\\n\", t)\n",
    "print (\"t ndim: \", t.ndim)\n",
    "print (\"t shape:\", t.shape)\n",
    "print (\"t size: \", t.size)\n",
    "print (\"t dtype: \", t.dtype) "
   ]
  },
  {
   "cell_type": "markdown",
   "metadata": {},
   "source": [
    "### Funciones utiles para crear ndarrays\n",
    "\n",
    "Existen funciones para crear ndarray en base a su shape algunas de ellas son:\n",
    "\n",
    "* `np.ones(shape)`: Permite crear un arreglo llenado con puros unos\n",
    "* `np.zeros(shape)`: Permite crear un arreglo llenado con puros ceros\n",
    "* `np.empty(shape)`: Permite crear un arreglo con valores no inicializados\n",
    "* `np.random.random(shape)`: Permite crear un arreglo con valores entre cero y uno\n",
    "* `np.title(arreglo, shape)`: Repite un arreglo en la forma shape\n",
    "* `np.repeate(a, repeats, axis=None)`: Permite repetir un arreglo"
   ]
  },
  {
   "cell_type": "code",
   "execution_count": 44,
   "metadata": {},
   "outputs": [
    {
     "name": "stdout",
     "output_type": "stream",
     "text": [
      "Vector nulo: [0. 0. 0. 0.]\n",
      "Matriz \n",
      " [[1. 1. 1. 1.]\n",
      " [1. 1. 1. 1.]\n",
      " [1. 1. 1. 1.]]\n",
      "Arreglo de ceros:\n",
      " [[[0.42906137 0.60041123 0.33671289 0.0187256 ]\n",
      "  [0.41835088 0.19022087 0.46757129 0.34988487]\n",
      "  [0.50633661 0.10009727 0.79311908 0.08960143]]\n",
      "\n",
      " [[0.37029602 0.83559134 0.23254862 0.44136534]\n",
      "  [0.58739622 0.38811138 0.43882275 0.51460944]\n",
      "  [0.7358574  0.65620095 0.49460281 0.55522903]]]\n",
      "Arreglo vacio:\n",
      " [[0.e+000 5.e-324 1.e-323]\n",
      " [0.e+000 5.e-324 1.e-323]]\n",
      "Original: [0 1 2] Title: [0 1 2 0 1 2]\n"
     ]
    }
   ],
   "source": [
    "vector_nulo = np.zeros([4])\n",
    "print(\"Vector nulo:\", vector_nulo)\n",
    "\n",
    "matriz_unos = np.ones([3,4])\n",
    "print(\"Matriz \\n\", matriz_unos)\n",
    "\n",
    "# Creacion de un arreglo el cual sus elementos son cero\n",
    "arreglo_aleatorio = np.random.random([2,3,4])\n",
    "print(\"Arreglo de ceros:\\n\", arreglo_aleatorio)\n",
    "\n",
    "# Cracion de una matriz sin entradas inicializadas, NumPy les asigna valores aleatorios\n",
    "arreglo_vacio = np.empty([2, 3])\n",
    "print(\"Arreglo vacio:\\n\", arreglo_vacio)\n",
    "\n",
    "a = np.array([0, 1, 2])\n",
    "print(\"Original:\", a, \"Title:\",  np.tile(a, 2))"
   ]
  },
  {
   "cell_type": "markdown",
   "metadata": {},
   "source": [
    "## Modificando el Shape de un ndarray\n",
    "\n",
    "El atributo shape de un ndarray dice cuantos elementos hay en cada eje del arreglo y la longitud de shape nos dice la dimensión. Podemos modificar el atributo shape de un ndarray con las funciones:\n",
    "\n",
    "* `resize(shape)`: Modifica el shape de un arreglo modificando el shape del arreglo \n",
    "* `reshape(shape)`: Modifica el shape de un arreglo creando un nuevo arreglo\n",
    "\n",
    "**El producto de todos los elementos del nuevo shape debe ser igual al producto de todos los elementos del antiguo shape**"
   ]
  },
  {
   "cell_type": "code",
   "execution_count": 61,
   "metadata": {},
   "outputs": [
    {
     "name": "stdout",
     "output_type": "stream",
     "text": [
      "(10,)\n",
      "usando resize (2, 5)\n",
      "usando reshape (5, 2)\n",
      "usando reshape (2, 5)\n"
     ]
    }
   ],
   "source": [
    "m = np.arange(10)\n",
    "print(m.shape)\n",
    "\n",
    "m.resize([2, 5])\n",
    "print(\"usando resize\", m.shape)\n",
    "\n",
    "# usamos reshape\n",
    "\n",
    "print(\"usando reshape\", m.reshape([5, 2]).shape)\n",
    "print(\"usando reshape\", m.shape)"
   ]
  },
  {
   "cell_type": "markdown",
   "metadata": {},
   "source": [
    "# Uniendo ndarrays\n",
    "\n",
    "Para unir ndarrays usamos principalemente las funciones:\n",
    "\n",
    "* `np.vstack(lista_de_ndarrays)`: Une arreglos de forma vertical\n",
    "* `np.hstack(lista_de_ndarrays)`: Une arreglos de forma horizontal"
   ]
  },
  {
   "cell_type": "code",
   "execution_count": 42,
   "metadata": {},
   "outputs": [
    {
     "name": "stdout",
     "output_type": "stream",
     "text": [
      "Union vertical:\n",
      " [[ 0  1  2]\n",
      " [ 3  4  5]\n",
      " [ 6  7  8]\n",
      " [ 9 10 11]\n",
      " [12 13 14]\n",
      " [15 16 17]]\n",
      "Union horizontal:\n",
      " [[ 0  1  2  9 10 11]\n",
      " [ 3  4  5 12 13 14]\n",
      " [ 6  7  8 15 16 17]]\n"
     ]
    }
   ],
   "source": [
    "m1 = np.arange(9).reshape([3, 3])\n",
    "m2 = np.arange(9, 18).reshape([3, 3])\n",
    "\n",
    "print(\"Union vertical:\\n\", np.vstack([m1, m2]))\n",
    "print(\"Union horizontal:\\n\", np.hstack([m1, m2]))"
   ]
  },
  {
   "cell_type": "markdown",
   "metadata": {},
   "source": [
    "## BroadCasting\n",
    "\n",
    "BroadCasting es la posibilidad de que un arreglo de que un arreglo posea la misma shape que otro arreglo para hacer una determinada operacion, estas operaciones son `+, -, *, /, **, %, //`\n",
    "\n",
    "Para que puedan hacer BroadCasting se deben cumplir que cada elemento del arreglo de izquierda a derecha cumpla con alguna de las siguientes reglas estas son:\n",
    "1. Ambos elementos son el mismo\n",
    "2. Un elemento vale uno\n",
    "\n",
    "Si no se cumple con alguna de estas reglas no se puede aplicar broadcasting\n",
    "\n",
    "Por ejemplo, poseemos un arreglo con los elementos a1 `[1,2]` cuya shape es `(2)`y otro arreglo a2 con los elementos   \n",
    "`[[1,1],  \n",
    "  [1,1],  \n",
    "  [1,1]]` cuya shape es `(3, 2)`\n",
    " \n",
    "Entonces vemos si cumplen con las reglas:  \n",
    "Primer elemento de derecha a izquierda: el primer elemento del primer arreglo es 2 y del segundo arreglo es 2 por lo que cumplen con la primera regla, asi que analizamos los siguentes elementos\n",
    "Segundo elemento de dercha a izquierda: El segundo elemento del primer arreglo es 1 (siempre se ponen unos cuando no hay elemento) y del segundo arreglo es 3 por lo que cumplen la segunda regla asi que pasamos a los siguientes elementos\n",
    "Tercer elemenento de derecha a izquierda: No hay mas elementos por lo que se puede aplicar BroadCasting\n",
    "\n",
    "Para hacer la operación lo que hara es convertir la shape de a1 a `(3, 2)` y la shape de a2 la mantendra hara eso para poder efectuar las operaciones. Y al convertir la shape de a1 duplicara sus elementos hasta conseguir determinada shape"
   ]
  },
  {
   "cell_type": "code",
   "execution_count": 69,
   "metadata": {
    "scrolled": false
   },
   "outputs": [
    {
     "name": "stdout",
     "output_type": "stream",
     "text": [
      "Suma:\n",
      " [[2 3]\n",
      " [2 3]\n",
      " [2 3]]\n",
      "Multiplicación:\n",
      " [[1 2]\n",
      " [1 2]\n",
      " [1 2]]\n",
      "División:\n",
      " [[1. 2.]\n",
      " [1. 2.]\n",
      " [1. 2.]]\n",
      "División Entera:\n",
      " [[1 2]\n",
      " [1 2]\n",
      " [1 2]]\n",
      "Exponencial:\n",
      " [[1 2]\n",
      " [1 2]\n",
      " [1 2]]\n",
      "Modulo:\n",
      " [[0 0]\n",
      " [0 0]\n",
      " [0 0]]\n"
     ]
    }
   ],
   "source": [
    "arreglo1 = np.array([1,2])\n",
    "arreglo2 = np.array([[1,1],  \n",
    "                     [1,1],  \n",
    "                     [1,1]])\n",
    "print(\"Suma:\\n\", arreglo1 + arreglo2)\n",
    "print(\"Multiplicación:\\n\", arreglo1 * arreglo2)\n",
    "print(\"División:\\n\", arreglo1 / arreglo2)\n",
    "print(\"División Entera:\\n\", arreglo1 // arreglo2)\n",
    "print(\"Exponencial:\\n\", arreglo1 ** arreglo2)\n",
    "print(\"Modulo:\\n\", arreglo1 % arreglo2)"
   ]
  }
 ],
 "metadata": {
  "kernelspec": {
   "display_name": "Python 3",
   "language": "python",
   "name": "python3"
  },
  "language_info": {
   "codemirror_mode": {
    "name": "ipython",
    "version": 3
   },
   "file_extension": ".py",
   "mimetype": "text/x-python",
   "name": "python",
   "nbconvert_exporter": "python",
   "pygments_lexer": "ipython3",
   "version": "3.6.9"
  }
 },
 "nbformat": 4,
 "nbformat_minor": 2
}
